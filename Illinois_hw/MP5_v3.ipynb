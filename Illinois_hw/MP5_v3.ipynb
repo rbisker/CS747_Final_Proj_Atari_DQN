{
 "cells": [
  {
   "cell_type": "markdown",
   "metadata": {},
   "source": [
    "# Deep Q-Learning "
   ]
  },
  {
   "cell_type": "markdown",
   "metadata": {},
   "source": [
    "Install dependencies for AI gym to run properly (shouldn't take more than a minute). If running on google cloud or running locally, only need to run once. Colab may require installing everytime the vm shuts down."
   ]
  },
  {
   "cell_type": "code",
   "execution_count": 13,
   "metadata": {},
   "outputs": [],
   "source": [
    "# !pip3 install gym pyvirtualdisplay\n",
    "# !sudo apt-get install -y xvfb python-opengl ffmpeg"
   ]
  },
  {
   "cell_type": "code",
   "execution_count": 14,
   "metadata": {},
   "outputs": [],
   "source": [
    "# !pip3 install --upgrade setuptools --user\n",
    "# !pip3 install ez_setup \n",
    "# !pip3 install gym[atari] \n",
    "# !pip3 install gym[accept-rom-license] "
   ]
  },
  {
   "cell_type": "code",
   "execution_count": 15,
   "metadata": {},
   "outputs": [
    {
     "name": "stdout",
     "output_type": "stream",
     "text": [
      "True\n",
      "11.8\n",
      "CUDA device: cuda\n"
     ]
    }
   ],
   "source": [
    "import torch\n",
    "print(torch.cuda.is_available())  # Should return True if CUDA is available\n",
    "print(torch.version.cuda)  # Should print 11.8\n",
    "device = torch.device(\"cuda\" if torch.cuda.is_available() else \"cpu\")\n",
    "print(f\"CUDA device: {device}\")  # Expected output: \"cuda:0\" if GPU is available"
   ]
  },
  {
   "cell_type": "markdown",
   "metadata": {},
   "source": [
    "For this assignment we will implement the Deep Q-Learning algorithm with Experience Replay as described in breakthrough paper __\"Playing Atari with Deep Reinforcement Learning\"__. We will train an agent to play the famous game of __Breakout__."
   ]
  },
  {
   "cell_type": "code",
   "execution_count": 16,
   "metadata": {},
   "outputs": [
    {
     "name": "stdout",
     "output_type": "stream",
     "text": [
      "The autoreload extension is already loaded. To reload it, use:\n",
      "  %reload_ext autoreload\n"
     ]
    }
   ],
   "source": [
    "%matplotlib inline\n",
    "%load_ext autoreload\n",
    "%autoreload 2\n",
    "\n",
    "import sys\n",
    "# import gym\n",
    "import gymnasium as gym\n",
    "import ale_py\n",
    "import pylab\n",
    "import random\n",
    "import numpy as np\n",
    "from collections import deque\n",
    "from datetime import datetime\n",
    "from copy import deepcopy\n",
    "import torch.nn as nn\n",
    "import torch.optim as optim\n",
    "import torch.nn.functional as F\n",
    "from torch.autograd import Variable\n",
    "from utils import *\n",
    "from model import *\n",
    "from config import *\n",
    "from checkpoint import *\n",
    "import pickle\n",
    "import os\n",
    "\n",
    "import matplotlib.pyplot as plt\n"
   ]
  },
  {
   "cell_type": "code",
   "execution_count": 17,
   "metadata": {},
   "outputs": [],
   "source": [
    "# Function to create metadata for checkpointing puposes\n",
    "def create_metadata(agent, global_episode, global_frame, eval_rewards, rewards, episodes, last_10_ep_losses, loss_tracker, epsilon, beta=None):\n",
    "    return {\n",
    "    'global_episode': global_episode,\n",
    "    'global_frame': global_frame,\n",
    "    'batch_size': BATCH_SIZE,\n",
    "    'sch_gamma': scheduler_gamma,\n",
    "    'sch_step_size': scheduler_step_size,\n",
    "    'tgt_update_freq': update_target_network_frequency,\n",
    "    'memory capacity': Memory_capacity,  \n",
    "    'explore steps': EXPLORE_STEPS, \n",
    "    'epsilon_decay_rate': agent.epsilon_decay_rate,\n",
    "    'sticky_action_prob': sticky_action_prob,\n",
    "    'eval_rewards': eval_rewards,\n",
    "    'rewards': rewards,\n",
    "    'episodes': episodes,\n",
    "    'last_10_ep_losses': last_10_ep_losses,\n",
    "    'loss_tracker': loss_tracker,\n",
    "    'epislon': epsilon,\n",
    "    'per_beta': beta\n",
    "\n",
    "    }"
   ]
  },
  {
   "cell_type": "code",
   "execution_count": 18,
   "metadata": {},
   "outputs": [],
   "source": [
    "import sys\n",
    "import os\n",
    "\n",
    "class TeeLogger:\n",
    "    def __init__(self, filepath):\n",
    "        self.original_stdout = sys.__stdout__  # raw terminal (useful fallback)\n",
    "        self.ipython_stdout = sys.stdout       # the notebook's visible output\n",
    "        self.log = open(filepath, \"w\")\n",
    "\n",
    "    def write(self, message):\n",
    "        self.ipython_stdout.write(message)\n",
    "        self.log.write(message)\n",
    "        self.flush()\n",
    "\n",
    "    def flush(self):\n",
    "        self.ipython_stdout.flush()\n",
    "        self.log.flush()\n",
    "\n",
    "    def close(self):\n",
    "        self.log.close()"
   ]
  },
  {
   "cell_type": "markdown",
   "metadata": {},
   "source": [
    "## Understanding the environment"
   ]
  },
  {
   "cell_type": "markdown",
   "metadata": {},
   "source": [
    "Unlike the UIlliniois assigment this code is based on, I will be using the Gymnasium (https://github.com/farama-Foundation/gymnasium) and the Atari Learning Environment (ALE, link here: https://ale.farama.org/), rather than gym, which has been deprecated.  We will still be playing Breakout on Atari.\n",
    "\n",
    "To replecate BreakoutDeterministic-v4, as a starting point we'll use ALE/Breakout-v5 with frameskip=4, no \"sticky actions\" (i.e. deterministic actions), and a limited action space of NOOP, FIRE, LEFT, RIGHT.  However we won't be training on FIRE, instead we will ensure FIRE only happens when the game first starts and when a ball/life is lost."
   ]
  },
  {
   "cell_type": "code",
   "execution_count": 19,
   "metadata": {},
   "outputs": [],
   "source": [
    "# env = gym.make('BreakoutDeterministic-v4')\n",
    "env = gym.make('ALE/Breakout-v5', frameskip=4, repeat_action_probability=0.0, full_action_space=False)  # Use equivalent parameters to BreakoutDeterministic-v4\n",
    "state = env.reset()"
   ]
  },
  {
   "cell_type": "markdown",
   "metadata": {},
   "source": [
    "#### Test Env Frame Output"
   ]
  },
  {
   "cell_type": "code",
   "execution_count": 20,
   "metadata": {},
   "outputs": [
    {
     "name": "stdout",
     "output_type": "stream",
     "text": [
      "(185, 160, 3)\n",
      "height:  185 width:  160\n"
     ]
    },
    {
     "data": {
      "image/png": "[encoded data removed]",
      "text/plain": [
       "<Figure size 160x185 with 1 Axes>"
      ]
     },
     "metadata": {},
     "output_type": "display_data"
    }
   ],
   "source": [
    "# Create environments\n",
    "env = gym.make('ALE/Breakout-v5', frameskip=4, repeat_action_probability=sticky_action_prob, full_action_space=False, render_mode=\"rgb_array\")\n",
    "\n",
    "obs, info = env.reset()\n",
    "frame = env.render()\n",
    "frame = frame[20:-5, :, :]\n",
    "\n",
    "# Calculate figure size in inches to match pixel size\n",
    "height, width = frame.shape[:2]\n",
    "print(frame.shape)\n",
    "print(\"height: \", height, \"width: \", width)\n",
    "dpi = plt.rcParams['figure.dpi']\n",
    "figsize = (width / dpi, height / dpi)\n",
    "\n",
    "# Plot with exact pixel size\n",
    "plt.figure(figsize=figsize, dpi=dpi)\n",
    "plt.imshow(frame)\n",
    "plt.title(\"Raw Render Output (Exact Pixel Dimensions)\")\n",
    "plt.axis(\"off\")\n",
    "plt.tight_layout(pad=0)\n",
    "plt.show()\n"
   ]
  },
  {
   "cell_type": "code",
   "execution_count": 21,
   "metadata": {},
   "outputs": [],
   "source": [
    "number_lives = find_max_lives(env)\n",
    "state_size = env.observation_space.shape\n",
    "action_size = 3 #noop, left, and right.  Fire ball (action 1) is not trained"
   ]
  },
  {
   "cell_type": "markdown",
   "metadata": {},
   "source": [
    "## Creating a DQN Agent"
   ]
  },
  {
   "cell_type": "markdown",
   "metadata": {},
   "source": [
    "Here we create a DQN Agent. This agent is defined in the __agent.py__. The corresponding neural network is defined in the __model.py__. Once you've created a working DQN agent, use the code in agent.py to create a double DQN agent in __agent_double.py__. Set the flag \"double_dqn\" to True to train the double DQN agent.\n",
    "\n",
    "__Evaluation Reward__ : The average reward received in the past 100 episodes/games.\n",
    "\n",
    "__Frame__ : Number of frames processed in total.\n",
    "\n",
    "__Memory Size__ : The current size of the replay memory."
   ]
  },
  {
   "cell_type": "markdown",
   "metadata": {},
   "source": [
    "### Create Replay Memory Pickle"
   ]
  },
  {
   "cell_type": "code",
   "execution_count": null,
   "metadata": {},
   "outputs": [
    {
     "name": "stdout",
     "output_type": "stream",
     "text": [
      "DQN Agent initialized\n",
      "No replay buffer path provided. Creating new empty buffer.\n"
     ]
    },
    {
     "name": "stderr",
     "output_type": "stream",
     "text": [
      "c:\\Users\\rbisk\\Dropbox\\GMU\\cs747 Deep Learning\\Final_Project\\Illinois_hw\\agent.py:60: FutureWarning: You are using `torch.load` with `weights_only=False` (the current default value), which uses the default pickle module implicitly. It is possible to construct malicious pickle data which will execute arbitrary code during unpickling (See https://github.com/pytorch/pytorch/blob/main/SECURITY.md#untrusted-models for more details). In a future release, the default value for `weights_only` will be flipped to `True`. This limits the functions that could be executed during unpickling. Arbitrary objects will no longer be allowed to be loaded via this mode unless they are explicitly allowlisted by the user via `torch.serialization.add_safe_globals`. We recommend you start setting `weights_only=True` for any use case where you don't have full control of the loaded file. Please open an issue on GitHub for any issues related to this experimental feature.\n",
      "  self.policy_net.load_state_dict(torch.load(path))\n"
     ]
    },
    {
     "ename": "NameError",
     "evalue": "name 'get_frame' is not defined",
     "output_type": "error",
     "traceback": [
      "\u001b[1;31m---------------------------------------------------------------------------\u001b[0m",
      "\u001b[1;31mNameError\u001b[0m                                 Traceback (most recent call last)",
      "Cell \u001b[1;32mIn[10], line 62\u001b[0m\n\u001b[0;32m     60\u001b[0m next_state, reward, terminations, truncations, info \u001b[38;5;241m=\u001b[39m env\u001b[38;5;241m.\u001b[39mstep(action)  \n\u001b[0;32m     61\u001b[0m done \u001b[38;5;241m=\u001b[39m truncations \u001b[38;5;129;01mor\u001b[39;00m terminations\n\u001b[1;32m---> 62\u001b[0m frame_next_state \u001b[38;5;241m=\u001b[39m \u001b[43mget_frame\u001b[49m(next_state)\n\u001b[0;32m     63\u001b[0m frame_for_buffer \u001b[38;5;241m=\u001b[39m new_get_frame(next_state)\n\u001b[0;32m     65\u001b[0m history[\u001b[38;5;241m4\u001b[39m, :, :] \u001b[38;5;241m=\u001b[39m frame_next_state\n",
      "\u001b[1;31mNameError\u001b[0m: name 'get_frame' is not defined"
     ]
    }
   ],
   "source": [
    "\n",
    "# # # ### Pickle Replay Creator ###\n",
    "# from gymnasium.wrappers import RecordVideo\n",
    "# from config import *\n",
    "\n",
    "\n",
    "# mem_name = 'Buffer_for_testing_using_Run13_new_get_frame'\n",
    "\n",
    "# #create fresh environment\n",
    "# env = gym.make('ALE/Breakout-v5', frameskip=4, repeat_action_probability=sticky_action_prob, full_action_space=False, render_mode='rgb_array')\n",
    "# # env = RecordVideo(env, video_folder=\"./videos\", episode_trigger=lambda ep: ep % 20 == 0)  \n",
    "\n",
    "# # Choose whether to use double DQN\n",
    "# double_dqn = False # set to True if using double DQN agent\n",
    "# if double_dqn:\n",
    "#     from agent_double import Agent\n",
    "# else:\n",
    "#     from agent import Agent\n",
    "\n",
    "# # print(\"Instantiating agent\")\n",
    "# agent = Agent(action_size)\n",
    "# agent.load_policy_net(\"./save_model/run13/good_Run13_StdDQN_750K_frames_imprvdBatching_2477_eps.pth\")\n",
    "# agent.target_net.load_state_dict(agent.policy_net.state_dict())\n",
    "# agent.epsilon = 0.1\n",
    "\n",
    "# frame = 0   \n",
    "# evaluation_reward = deque(maxlen=evaluation_reward_length)\n",
    "# rewards, episodes = [], []\n",
    "# best_eval_reward = 0\n",
    "# exit_flag = False\n",
    "\n",
    "# for e in range(EPISODES):\n",
    "#     done = False\n",
    "#     score = 0\n",
    "\n",
    "#     history = np.zeros([5, 84, 84], dtype=np.uint8)\n",
    "#     step = 0\n",
    "#     state, _ = env.reset()\n",
    "#     next_state = state\n",
    "#     life = number_lives\n",
    "#     fire_ready = True\n",
    "\n",
    "#     get_init_state(history, state, HISTORY_SIZE)\n",
    "\n",
    "#     while not done:\n",
    "#         step += 1\n",
    "#         frame += 1\n",
    "\n",
    "#         # Selet Action (with robust check for FIRE action)\n",
    "#         if fire_ready:\n",
    "#             next_state, force_done = reset_after_life_loss(env, history)\n",
    "#             if force_done:\n",
    "#                 break\n",
    "#             action = 1\n",
    "#             fire_ready = False\n",
    "#         else:\n",
    "#             trainable_action = agent.get_action(np.float32(history[:4, :, :]) / 255.)\n",
    "#             action = TRAINABLE_ACTIONS[trainable_action]\n",
    "\n",
    "#         state = next_state\n",
    "#         next_state, reward, terminations, truncations, info = env.step(action)  \n",
    "#         done = truncations or terminations\n",
    "#         frame_next_state = get_frame(next_state)\n",
    "#         frame_for_buffer = new_get_frame(next_state)\n",
    "\n",
    "#         history[4, :, :] = frame_next_state\n",
    "#         lost_life = check_live(life, info['lives'])  #check if the agent has lost a life\n",
    "\n",
    "#         if lost_life:\n",
    "#             fire_ready = True\n",
    "\n",
    "#         life = info['lives']\n",
    "#         r = reward\n",
    "\n",
    "#         # Store the transition in memory if it was not a FIRE action\n",
    "#         if action in TRAINABLE_ACTIONS:\n",
    "#             trainable_index = TRAINABLE_ACTIONS.index(action)\n",
    "#             agent.memory.push(deepcopy(frame_for_buffer), trainable_index, r, lost_life)\n",
    "#         # When replay buffer is filled save to pickle and break\n",
    "#         if len(agent.memory) == train_frame:\n",
    "#             print(f\"Memory filled, saving pickle file\") \n",
    "#             agent.save_replay_buffer(mem_name, frame)\n",
    "#             exit_flag = True\n",
    "#             break \n",
    "#         score += reward\n",
    "#         history[:4, :, :] = history[1:, :, :]  # shift history by one erasing oldest frame\n",
    "\n",
    "#         if done:\n",
    "#             fire_ready = True\n",
    "#             evaluation_reward.append(score)\n",
    "#             rewards.append(np.mean(evaluation_reward))  # record moving average of last evaluation_reward_length episodes\n",
    "#             episodes.append(e)\n",
    "\n",
    "#             # print episode information \n",
    "#             if e % 1 == 0:\n",
    "#                 print(\"episode:\", e, \"  score:\", score, \"  memory length:\",\n",
    "#                   len(agent.memory), \"  epsilon:\", agent.epsilon, \"  steps:\", step,\n",
    "#                   \"  lr:\", agent.optimizer.param_groups[0]['lr'], \n",
    "#                   \"  evaluation reward:\", np.mean(evaluation_reward))\n",
    "#     if exit_flag:\n",
    "#         break"
   ]
  },
  {
   "cell_type": "code",
   "execution_count": null,
   "metadata": {},
   "outputs": [],
   "source": [
    "# # Start logging\n",
    "# log_file = \"./test_log.txt\"\n",
    "# tee = TeeLogger(log_file)\n",
    "# sys.stdout = tee\n",
    "# sys.stderr = tee\n",
    "\n",
    "# print(f\"Logging started. Output will be written to both notebook and {log_file}\")\n",
    "\n"
   ]
  },
  {
   "cell_type": "code",
   "execution_count": null,
   "metadata": {},
   "outputs": [],
   "source": [
    "# # Stop logging safely\n",
    "# sys.stdout = tee.original_stdout\n",
    "# sys.stderr = tee.original_stdout\n",
    "# tee.close()\n",
    "\n",
    "# print(\"This goes only to the notebook now.\")"
   ]
  },
  {
   "cell_type": "markdown",
   "metadata": {},
   "source": [
    "### Main Training Loop"
   ]
  },
  {
   "cell_type": "markdown",
   "metadata": {},
   "source": [
    "In this training loop, we do not render the screen because it slows down training signficantly. To watch the agent play the game, run the code in next section \"Visualize Agent Performance\""
   ]
  },
  {
   "cell_type": "code",
   "execution_count": 22,
   "metadata": {},
   "outputs": [],
   "source": [
    "## Setup Run Name and Memory Paths ##\n",
    "mem_path = None\n",
    "# mem_path = './checkpoints/Run1_DQN_Serial_20pctExplore_and_Sticky_100000_replay_buffer.pkl'\n",
    "# mem_path = './checkpoints/Buffer_for_testing_using_Run5_50K_replay_buffer.pkl'\n",
    "# mem_path = './checkpoints/Buffer_for_testing_using_Run13_new_get_frame_100974_replay_buffer.pkl'\n",
    "seed = 83"
   ]
  },
  {
   "cell_type": "code",
   "execution_count": null,
   "metadata": {},
   "outputs": [],
   "source": [
    "# log_dir = f\"./logs/run{run_num}\"\n",
    "# os.makedirs(log_dir, exist_ok=True)\n",
    "# log_file = os.path.join(log_dir, f\"{run_name}_output.log\")\n",
    "# tee = TeeLogger(log_file)\n",
    "# sys.stdout = tee\n",
    "# sys.stderr = tee\n",
    "\n",
    "# print(f\"Logging started. Output will be written to both notebook and {log_file}\")"
   ]
  },
  {
   "cell_type": "code",
   "execution_count": 23,
   "metadata": {},
   "outputs": [
    {
     "name": "stdout",
     "output_type": "stream",
     "text": [
      "Starting run Run17_StdDQN_750Kfr_newest_get_frame_CirularPER_wIS\n",
      "Instantiating agent\n",
      "DQN Agent initialized\n",
      "Setting up Circular PER Replay Buffer of size 250000\n"
     ]
    },
    {
     "name": "stderr",
     "output_type": "stream",
     "text": [
      "c:\\Users\\rbisk\\anaconda3\\envs\\gym\\lib\\site-packages\\numpy\\core\\fromnumeric.py:3464: RuntimeWarning: Mean of empty slice.\n",
      "  return _methods._mean(a, axis=axis, dtype=dtype,\n",
      "c:\\Users\\rbisk\\anaconda3\\envs\\gym\\lib\\site-packages\\numpy\\core\\_methods.py:192: RuntimeWarning: invalid value encountered in scalar divide\n",
      "  ret = ret.dtype.type(ret / rcount)\n"
     ]
    },
    {
     "name": "stdout",
     "output_type": "stream",
     "text": [
      "episode: 1   frame: 120   score: 0.0   memory length: 115   epsilon: 1.0   steps: 120   lr: 0.0005   PER_beta: 0.4   reward MA: 0.0   mean loss: 0   mean max Q: nan\n",
      "episode: 2   frame: 347   score: 3.0   memory length: 337   epsilon: 1.0   steps: 227   lr: 0.0005   PER_beta: 0.4   reward MA: 1.5   mean loss: 0   mean max Q: nan\n",
      "episode: 3   frame: 467   score: 0.0   memory length: 452   epsilon: 1.0   steps: 120   lr: 0.0005   PER_beta: 0.4   reward MA: 1.0   mean loss: 0   mean max Q: nan\n",
      "episode: 4   frame: 587   score: 0.0   memory length: 567   epsilon: 1.0   steps: 120   lr: 0.0005   PER_beta: 0.4   reward MA: 0.75   mean loss: 0   mean max Q: nan\n",
      "episode: 5   frame: 707   score: 0.0   memory length: 682   epsilon: 1.0   steps: 120   lr: 0.0005   PER_beta: 0.4   reward MA: 0.6   mean loss: 0   mean max Q: nan\n",
      "episode: 6   frame: 855   score: 1.0   memory length: 825   epsilon: 1.0   steps: 148   lr: 0.0005   PER_beta: 0.4   reward MA: 0.667   mean loss: 0   mean max Q: nan\n",
      "episode: 7   frame: 1003   score: 1.0   memory length: 968   epsilon: 1.0   steps: 148   lr: 0.0005   PER_beta: 0.4   reward MA: 0.714   mean loss: 0   mean max Q: nan\n",
      "episode: 8   frame: 1151   score: 1.0   memory length: 1111   epsilon: 1.0   steps: 148   lr: 0.0005   PER_beta: 0.4   reward MA: 0.75   mean loss: 0   mean max Q: nan\n",
      "episode: 9   frame: 1271   score: 0.0   memory length: 1226   epsilon: 1.0   steps: 120   lr: 0.0005   PER_beta: 0.4   reward MA: 0.667   mean loss: 0   mean max Q: nan\n",
      "episode: 10   frame: 1391   score: 0.0   memory length: 1341   epsilon: 1.0   steps: 120   lr: 0.0005   PER_beta: 0.4   reward MA: 0.6   mean loss: 0   mean max Q: nan\n",
      "episode: 11   frame: 1511   score: 0.0   memory length: 1456   epsilon: 1.0   steps: 120   lr: 0.0005   PER_beta: 0.4   reward MA: 0.545   mean loss: 0   mean max Q: nan\n",
      "episode: 12   frame: 1659   score: 1.0   memory length: 1599   epsilon: 1.0   steps: 148   lr: 0.0005   PER_beta: 0.4   reward MA: 0.583   mean loss: 0   mean max Q: nan\n",
      "episode: 13   frame: 1779   score: 0.0   memory length: 1714   epsilon: 1.0   steps: 120   lr: 0.0005   PER_beta: 0.4   reward MA: 0.538   mean loss: 0   mean max Q: nan\n",
      "episode: 14   frame: 1947   score: 1.0   memory length: 1877   epsilon: 1.0   steps: 168   lr: 0.0005   PER_beta: 0.4   reward MA: 0.571   mean loss: 0   mean max Q: nan\n",
      "Starting training\n",
      "episode: 1   frame: 2067   score: 0.0   memory length: 1992   epsilon: 0.99988   steps: 120   lr: 0.0005   PER_beta: 0.4000544000000016   reward MA: 0.533   mean loss: 0   mean max Q: 0.1089\n",
      "episode: 2   frame: 2235   score: 1.0   memory length: 2155   epsilon: 0.99958   steps: 168   lr: 0.0005   PER_beta: 0.40018880000000545   reward MA: 0.562   mean loss: 0.02319   mean max Q: 0.2259\n",
      "episode: 3   frame: 2355   score: 0.0   memory length: 2270   epsilon: 0.99936   steps: 120   lr: 0.0005   PER_beta: 0.4002848000000082   reward MA: 0.529   mean loss: 0.00827   mean max Q: 0.4517\n",
      "episode: 4   frame: 2503   score: 1.0   memory length: 2413   epsilon: 0.99909   steps: 148   lr: 0.0005   PER_beta: 0.4004032000000116   reward MA: 0.556   mean loss: 0.00451   mean max Q: 0.5176\n",
      "episode: 5   frame: 2681   score: 2.0   memory length: 2586   epsilon: 0.99877   steps: 178   lr: 0.0005   PER_beta: 0.4005456000000157   reward MA: 0.632   mean loss: 0.00281   mean max Q: 0.6002\n",
      "episode: 6   frame: 2801   score: 0.0   memory length: 2701   epsilon: 0.99856   steps: 120   lr: 0.0005   PER_beta: 0.40064160000001847   reward MA: 0.6   mean loss: 0.00409   mean max Q: 0.7181\n",
      "episode: 7   frame: 2921   score: 0.0   memory length: 2816   epsilon: 0.99834   steps: 120   lr: 0.0005   PER_beta: 0.40073760000002123   reward MA: 0.571   mean loss: 0.00104   mean max Q: 0.6101\n",
      "episode: 8   frame: 3069   score: 1.0   memory length: 2959   epsilon: 0.99807   steps: 148   lr: 0.0005   PER_beta: 0.40085600000002464   reward MA: 0.591   mean loss: 0.00014   mean max Q: 0.6401\n",
      "episode: 9   frame: 3335   score: 3.0   memory length: 3220   epsilon: 0.9976   steps: 266   lr: 0.0005   PER_beta: 0.40106880000003076   reward MA: 0.696   mean loss: 5e-05   mean max Q: 0.6221\n",
      "episode: 10   frame: 3483   score: 1.0   memory length: 3363   epsilon: 0.99733   steps: 148   lr: 0.0005   PER_beta: 0.40118720000003416   reward MA: 0.708   mean loss: 0.00324   mean max Q: 0.686\n",
      "episode: 11   frame: 3631   score: 1.0   memory length: 3506   epsilon: 0.99706   steps: 148   lr: 0.0005   PER_beta: 0.40130560000003757   reward MA: 0.72   mean loss: 0.00205   mean max Q: 0.6659\n",
      "episode: 12   frame: 3751   score: 0.0   memory length: 3621   epsilon: 0.99685   steps: 120   lr: 0.0005   PER_beta: 0.4014016000000403   reward MA: 0.692   mean loss: 0.00057   mean max Q: 0.6466\n",
      "episode: 13   frame: 3963   score: 3.0   memory length: 3828   epsilon: 0.99646   steps: 212   lr: 0.0005   PER_beta: 0.4015712000000452   reward MA: 0.778   mean loss: 9e-05   mean max Q: 0.616\n",
      "episode: 14   frame: 4131   score: 1.0   memory length: 3991   epsilon: 0.99616   steps: 168   lr: 0.0005   PER_beta: 0.40170560000004907   reward MA: 0.786   mean loss: 0.00048   mean max Q: 0.7115\n",
      "episode: 15   frame: 4299   score: 1.0   memory length: 4154   epsilon: 0.99586   steps: 168   lr: 0.0005   PER_beta: 0.40184000000005293   reward MA: 0.793   mean loss: 0.00046   mean max Q: 0.7433\n",
      "episode: 16   frame: 4467   score: 1.0   memory length: 4317   epsilon: 0.99556   steps: 168   lr: 0.0005   PER_beta: 0.4019744000000568   reward MA: 0.8   mean loss: 3e-05   mean max Q: 0.7188\n",
      "episode: 17   frame: 4615   score: 1.0   memory length: 4460   epsilon: 0.99529   steps: 148   lr: 0.0005   PER_beta: 0.4020928000000602   reward MA: 0.806   mean loss: 2e-05   mean max Q: 0.7273\n",
      "episode: 18   frame: 4793   score: 2.0   memory length: 4633   epsilon: 0.99497   steps: 178   lr: 0.0005   PER_beta: 0.4022352000000643   reward MA: 0.844   mean loss: 0.00067   mean max Q: 0.7979\n",
      "episode: 19   frame: 4913   score: 0.0   memory length: 4748   epsilon: 0.99475   steps: 120   lr: 0.0005   PER_beta: 0.40233120000006706   reward MA: 0.818   mean loss: 4e-05   mean max Q: 0.7899\n",
      "Target network updated at frame:  5000\n",
      "episode: 20   frame: 5061   score: 1.0   memory length: 4891   epsilon: 0.99449   steps: 148   lr: 0.0005   PER_beta: 0.40244960000007046   reward MA: 0.824   mean loss: 6e-05   mean max Q: 0.6744\n",
      "episode: 21   frame: 5330   score: 4.0   memory length: 5155   epsilon: 0.994   steps: 269   lr: 0.0005   PER_beta: 0.40266480000007665   reward MA: 0.914   mean loss: 0.00323   mean max Q: 0.7589\n",
      "episode: 22   frame: 5478   score: 1.0   memory length: 5298   epsilon: 0.99374   steps: 148   lr: 0.0005   PER_beta: 0.40278320000008005   reward MA: 0.917   mean loss: 0.01086   mean max Q: 0.9721\n",
      "episode: 23   frame: 5704   score: 3.0   memory length: 5519   epsilon: 0.99333   steps: 226   lr: 0.0005   PER_beta: 0.40296400000008525   reward MA: 0.973   mean loss: 0.00564   mean max Q: 1.0878\n",
      "episode: 24   frame: 5824   score: 0.0   memory length: 5634   epsilon: 0.99311   steps: 120   lr: 0.0005   PER_beta: 0.403060000000088   reward MA: 0.947   mean loss: 0.00342   mean max Q: 1.0096\n",
      "episode: 25   frame: 5972   score: 1.0   memory length: 5777   epsilon: 0.99285   steps: 148   lr: 0.0005   PER_beta: 0.4031784000000914   reward MA: 0.949   mean loss: 0.00354   mean max Q: 1.1077\n",
      "[SAVED PLOT] ./save_graph/run17/Run17_StdDQN_750Kfr_newest_get_frame_CirularPER_wIS_ep25_Qstats.png\n"
     ]
    },
    {
     "data": {
      "image/png": "[encoded data removed]",
      "text/plain": [
       "<Figure size 640x480 with 1 Axes>"
      ]
     },
     "metadata": {},
     "output_type": "display_data"
    },
    {
     "name": "stdout",
     "output_type": "stream",
     "text": [
      "episode: 26   frame: 6150   score: 2.0   memory length: 5950   epsilon: 0.99253   steps: 178   lr: 0.0005   PER_beta: 0.4033208000000955   reward MA: 0.975   mean loss: 0.00149   mean max Q: 1.0164\n",
      "episode: 27   frame: 6397   score: 3.0   memory length: 6192   epsilon: 0.99208   steps: 247   lr: 0.0005   PER_beta: 0.4035184000001012   reward MA: 1.024   mean loss: 0.001   mean max Q: 1.0846\n",
      "episode: 28   frame: 6593   score: 2.0   memory length: 6383   epsilon: 0.99173   steps: 196   lr: 0.0005   PER_beta: 0.4036752000001057   reward MA: 1.048   mean loss: 0.00067   mean max Q: 1.0191\n",
      "episode: 29   frame: 6713   score: 0.0   memory length: 6498   epsilon: 0.99151   steps: 120   lr: 0.0005   PER_beta: 0.40377120000010847   reward MA: 1.023   mean loss: 0.00043   mean max Q: 1.0626\n",
      "episode: 30   frame: 6879   score: 1.0   memory length: 6659   epsilon: 0.99122   steps: 166   lr: 0.0005   PER_beta: 0.4039040000001123   reward MA: 1.023   mean loss: 0.0002   mean max Q: 0.9957\n",
      "episode: 31   frame: 6999   score: 0.0   memory length: 6774   epsilon: 0.991   steps: 120   lr: 0.0005   PER_beta: 0.40400000000011504   reward MA: 1.0   mean loss: 0.00013   mean max Q: 1.0209\n",
      "episode: 32   frame: 7226   score: 3.0   memory length: 6996   epsilon: 0.99059   steps: 227   lr: 0.0005   PER_beta: 0.40418160000012027   reward MA: 1.043   mean loss: 9e-05   mean max Q: 0.9379\n",
      "episode: 33   frame: 7346   score: 0.0   memory length: 7111   epsilon: 0.99038   steps: 120   lr: 0.0005   PER_beta: 0.404277600000123   reward MA: 1.021   mean loss: 0.00015   mean max Q: 1.0279\n",
      "episode: 34   frame: 7494   score: 1.0   memory length: 7254   epsilon: 0.99011   steps: 148   lr: 0.0005   PER_beta: 0.40439600000012643   reward MA: 1.021   mean loss: 0.00077   mean max Q: 1.0172\n",
      "episode: 35   frame: 7614   score: 0.0   memory length: 7369   epsilon: 0.98989   steps: 120   lr: 0.0005   PER_beta: 0.4044920000001292   reward MA: 1.0   mean loss: 0.00163   mean max Q: 1.0288\n",
      "episode: 36   frame: 7809   score: 2.0   memory length: 7559   epsilon: 0.98954   steps: 195   lr: 0.0005   PER_beta: 0.4046480000001337   reward MA: 1.02   mean loss: 0.00031   mean max Q: 1.04\n",
      "episode: 37   frame: 7929   score: 0.0   memory length: 7674   epsilon: 0.98933   steps: 120   lr: 0.0005   PER_beta: 0.40474400000013644   reward MA: 1.02   mean loss: 0.00033   mean max Q: 1.0213\n",
      "episode: 38   frame: 8049   score: 0.0   memory length: 7789   epsilon: 0.98911   steps: 120   lr: 0.0005   PER_beta: 0.4048400000001392   reward MA: 0.96   mean loss: 0.00029   mean max Q: 0.9935\n",
      "episode: 39   frame: 8230   score: 2.0   memory length: 7965   epsilon: 0.98878   steps: 181   lr: 0.0005   PER_beta: 0.40498480000014336   reward MA: 1.0   mean loss: 0.00013   mean max Q: 0.9868\n",
      "episode: 40   frame: 8378   score: 1.0   memory length: 8108   epsilon: 0.98852   steps: 148   lr: 0.0005   PER_beta: 0.40510320000014677   reward MA: 1.02   mean loss: 0.00013   mean max Q: 0.8941\n",
      "episode: 41   frame: 8526   score: 1.0   memory length: 8251   epsilon: 0.98825   steps: 148   lr: 0.0005   PER_beta: 0.4052216000001502   reward MA: 1.04   mean loss: 4e-05   mean max Q: 0.9465\n",
      "episode: 42   frame: 8646   score: 0.0   memory length: 8366   epsilon: 0.98804   steps: 120   lr: 0.0005   PER_beta: 0.40531760000015293   reward MA: 1.02   mean loss: 6e-05   mean max Q: 0.9666\n",
      "episode: 43   frame: 8824   score: 2.0   memory length: 8539   epsilon: 0.98771   steps: 178   lr: 0.0005   PER_beta: 0.40546000000015703   reward MA: 1.04   mean loss: 2e-05   mean max Q: 0.9496\n",
      "episode: 44   frame: 9020   score: 2.0   memory length: 8730   epsilon: 0.98736   steps: 196   lr: 0.0005   PER_beta: 0.40561680000016154   reward MA: 1.06   mean loss: 0.0001   mean max Q: 0.9984\n",
      "episode: 45   frame: 9168   score: 1.0   memory length: 8873   epsilon: 0.9871   steps: 148   lr: 0.0005   PER_beta: 0.40573520000016494   reward MA: 1.08   mean loss: 0.0022   mean max Q: 0.9938\n",
      "episode: 46   frame: 9288   score: 0.0   memory length: 8988   epsilon: 0.98688   steps: 120   lr: 0.0005   PER_beta: 0.4058312000001677   reward MA: 1.08   mean loss: 0.00042   mean max Q: 1.0246\n",
      "episode: 47   frame: 9436   score: 1.0   memory length: 9131   epsilon: 0.98661   steps: 148   lr: 0.0005   PER_beta: 0.4059496000001711   reward MA: 1.1   mean loss: 0.00014   mean max Q: 1.0001\n",
      "episode: 48   frame: 9584   score: 1.0   memory length: 9274   epsilon: 0.98635   steps: 148   lr: 0.0005   PER_beta: 0.4060680000001745   reward MA: 1.1   mean loss: 7e-05   mean max Q: 0.9224\n",
      "episode: 49   frame: 9732   score: 1.0   memory length: 9417   epsilon: 0.98608   steps: 148   lr: 0.0005   PER_beta: 0.4061864000001779   reward MA: 1.12   mean loss: 0.00011   mean max Q: 0.9825\n",
      "episode: 50   frame: 9880   score: 1.0   memory length: 9560   epsilon: 0.98581   steps: 148   lr: 0.0005   PER_beta: 0.4063048000001813   reward MA: 1.12   mean loss: 4e-05   mean max Q: 1.0373\n",
      "[SAVED PLOT] ./save_graph/run17/Run17_StdDQN_750Kfr_newest_get_frame_CirularPER_wIS_ep50_scores.png\n"
     ]
    },
    {
     "data": {
      "image/png": "[encoded data removed]",
      "text/plain": [
       "<Figure size 640x480 with 1 Axes>"
      ]
     },
     "metadata": {},
     "output_type": "display_data"
    },
    {
     "name": "stdout",
     "output_type": "stream",
     "text": [
      "[SAVED PLOT] ./save_graph/run17/Run17_StdDQN_750Kfr_newest_get_frame_CirularPER_wIS_ep50_losses.png\n"
     ]
    },
    {
     "data": {
      "image/png": "[encoded data removed]",
      "text/plain": [
       "<Figure size 640x480 with 1 Axes>"
      ]
     },
     "metadata": {},
     "output_type": "display_data"
    },
    {
     "name": "stdout",
     "output_type": "stream",
     "text": [
      "[SAVED PLOT] ./save_graph/run17/Run17_StdDQN_750Kfr_newest_get_frame_CirularPER_wIS_ep50_Qstats.png\n"
     ]
    },
    {
     "data": {
      "image/png": "[encoded data removed]",
      "text/plain": [
       "<Figure size 640x480 with 1 Axes>"
      ]
     },
     "metadata": {},
     "output_type": "display_data"
    },
    {
     "ename": "KeyboardInterrupt",
     "evalue": "",
     "output_type": "error",
     "traceback": [
      "\u001b[1;31m---------------------------------------------------------------------------\u001b[0m",
      "\u001b[1;31mKeyboardInterrupt\u001b[0m                         Traceback (most recent call last)",
      "Cell \u001b[1;32mIn[23], line 173\u001b[0m\n\u001b[0;32m    171\u001b[0m \u001b[38;5;28;01mif\u001b[39;00m(training_started_flg): \n\u001b[0;32m    172\u001b[0m     \u001b[38;5;28;01mif\u001b[39;00m frame \u001b[38;5;241m%\u001b[39m train_interval \u001b[38;5;241m==\u001b[39m \u001b[38;5;241m0\u001b[39m: \u001b[38;5;66;03m# Use adaptive training interval\u001b[39;00m\n\u001b[1;32m--> 173\u001b[0m         loss, q_stats \u001b[38;5;241m=\u001b[39m \u001b[43magent\u001b[49m\u001b[38;5;241;43m.\u001b[39;49m\u001b[43mtrain_policy_net\u001b[49m\u001b[43m(\u001b[49m\u001b[43m)\u001b[49m\n\u001b[0;32m    174\u001b[0m         episode_losses\u001b[38;5;241m.\u001b[39mappend(loss)\n\u001b[0;32m    175\u001b[0m         episode_q_means\u001b[38;5;241m.\u001b[39mappend(q_stats[\u001b[38;5;124m'\u001b[39m\u001b[38;5;124mq_mean\u001b[39m\u001b[38;5;124m'\u001b[39m])\n",
      "File \u001b[1;32mc:\\Users\\rbisk\\Dropbox\\GMU\\cs747 Deep Learning\\Final_Project\\Illinois_hw\\agent.py:97\u001b[0m, in \u001b[0;36mAgent.train_policy_net\u001b[1;34m(self)\u001b[0m\n\u001b[0;32m     95\u001b[0m     use_per \u001b[38;5;241m=\u001b[39m \u001b[38;5;28;01mFalse\u001b[39;00m\n\u001b[0;32m     96\u001b[0m \u001b[38;5;28;01melif\u001b[39;00m \u001b[38;5;28mtype\u001b[39m(\u001b[38;5;28mself\u001b[39m\u001b[38;5;241m.\u001b[39mmemory) \u001b[38;5;241m==\u001b[39m CircularReplayMemoryPER:\n\u001b[1;32m---> 97\u001b[0m     mini_batch, mini_batch_indices \u001b[38;5;241m=\u001b[39m \u001b[38;5;28;43mself\u001b[39;49m\u001b[38;5;241;43m.\u001b[39;49m\u001b[43mmemory\u001b[49m\u001b[38;5;241;43m.\u001b[39;49m\u001b[43mimproved_sample_mini_batch\u001b[49m\u001b[43m(\u001b[49m\u001b[43mbatch_size\u001b[49m\u001b[38;5;241;43m=\u001b[39;49m\u001b[43mBATCH_SIZE\u001b[49m\u001b[43m)\u001b[49m\n\u001b[0;32m     98\u001b[0m     use_per \u001b[38;5;241m=\u001b[39m \u001b[38;5;28;01mTrue\u001b[39;00m\n\u001b[0;32m     99\u001b[0m \u001b[38;5;28;01melse\u001b[39;00m:\n",
      "File \u001b[1;32mc:\\Users\\rbisk\\Dropbox\\GMU\\cs747 Deep Learning\\Final_Project\\Illinois_hw\\memory.py:112\u001b[0m, in \u001b[0;36mCircularReplayMemoryPER.improved_sample_mini_batch\u001b[1;34m(self, batch_size)\u001b[0m\n\u001b[0;32m    109\u001b[0m \u001b[38;5;28;01mif\u001b[39;00m \u001b[38;5;28mlen\u001b[39m(\u001b[38;5;28mself\u001b[39m\u001b[38;5;241m.\u001b[39mvalid_indices) \u001b[38;5;241m<\u001b[39m batch_size:\n\u001b[0;32m    110\u001b[0m     \u001b[38;5;28;01mraise\u001b[39;00m \u001b[38;5;167;01mValueError\u001b[39;00m(\u001b[38;5;124m\"\u001b[39m\u001b[38;5;124mNot enough valid samples.\u001b[39m\u001b[38;5;124m\"\u001b[39m)\n\u001b[1;32m--> 112\u001b[0m probs \u001b[38;5;241m=\u001b[39m \u001b[38;5;28;43mself\u001b[39;49m\u001b[38;5;241;43m.\u001b[39;49m\u001b[43mget_sampling_probs\u001b[49m\u001b[43m(\u001b[49m\u001b[38;5;28;43mself\u001b[39;49m\u001b[38;5;241;43m.\u001b[39;49m\u001b[43mvalid_indices\u001b[49m\u001b[43m)\u001b[49m\n\u001b[0;32m    114\u001b[0m \u001b[38;5;66;03m# Use cumulative sum and searchsorted for increased efficiency\u001b[39;00m\n\u001b[0;32m    115\u001b[0m cum_probs \u001b[38;5;241m=\u001b[39m np\u001b[38;5;241m.\u001b[39mcumsum(probs)\n",
      "File \u001b[1;32mc:\\Users\\rbisk\\Dropbox\\GMU\\cs747 Deep Learning\\Final_Project\\Illinois_hw\\memory.py:149\u001b[0m, in \u001b[0;36mCircularReplayMemoryPER.get_sampling_probs\u001b[1;34m(self, indices, alpha)\u001b[0m\n\u001b[0;32m    147\u001b[0m \u001b[38;5;28;01mdef\u001b[39;00m \u001b[38;5;21mget_sampling_probs\u001b[39m(\u001b[38;5;28mself\u001b[39m, indices, alpha\u001b[38;5;241m=\u001b[39mPER_ALPHA):\n\u001b[0;32m    148\u001b[0m     all_priorities \u001b[38;5;241m=\u001b[39m np\u001b[38;5;241m.\u001b[39marray([\u001b[38;5;28mself\u001b[39m\u001b[38;5;241m.\u001b[39mtd_errors[i] \u001b[38;5;28;01mfor\u001b[39;00m i \u001b[38;5;129;01min\u001b[39;00m \u001b[38;5;28mself\u001b[39m\u001b[38;5;241m.\u001b[39mvalid_indices], dtype\u001b[38;5;241m=\u001b[39mnp\u001b[38;5;241m.\u001b[39mfloat32)\n\u001b[1;32m--> 149\u001b[0m     all_priorities \u001b[38;5;241m=\u001b[39m \u001b[43mnp\u001b[49m\u001b[38;5;241;43m.\u001b[39;49m\u001b[43mpower\u001b[49m\u001b[43m(\u001b[49m\u001b[43mall_priorities\u001b[49m\u001b[43m,\u001b[49m\u001b[43m \u001b[49m\u001b[43malpha\u001b[49m\u001b[43m)\u001b[49m\n\u001b[0;32m    150\u001b[0m     total_priority \u001b[38;5;241m=\u001b[39m all_priorities\u001b[38;5;241m.\u001b[39msum()\n\u001b[0;32m    151\u001b[0m     probs \u001b[38;5;241m=\u001b[39m all_priorities \u001b[38;5;241m/\u001b[39m total_priority \u001b[38;5;28;01mif\u001b[39;00m total_priority \u001b[38;5;241m>\u001b[39m \u001b[38;5;241m0\u001b[39m \u001b[38;5;28;01melse\u001b[39;00m np\u001b[38;5;241m.\u001b[39mones_like(all_priorities)\u001b[38;5;241m/\u001b[39m\u001b[38;5;28mlen\u001b[39m(\u001b[38;5;28mself\u001b[39m\u001b[38;5;241m.\u001b[39mvalid_indices)\n",
      "\u001b[1;31mKeyboardInterrupt\u001b[0m: "
     ]
    }
   ],
   "source": [
    "from config import *\n",
    "\n",
    "set_seed(seed)\n",
    "run_num = \"17\"\n",
    "name = \"StdDQN_750Kfr_newest_get_frame_CirularPER_wIS\"\n",
    "run_name = \"Run\"+ str(run_num) + \"_\" + name\n",
    "\n",
    "\n",
    "from config import *\n",
    "from gymnasium.wrappers import RecordVideo\n",
    "\n",
    "# choose which Agent to use\n",
    "from agent import Agent\n",
    "\n",
    "#create fresh environment\n",
    "env = gym.make('ALE/Breakout-v5', frameskip=4, repeat_action_probability=sticky_action_prob, full_action_space=False, render_mode='rgb_array')  # Use equivalent parameters to BreakoutDeterministic-v4\n",
    "\n",
    "# setup video recording\n",
    "def video_trigger(_):\n",
    "    if len(episodes) == 0:\n",
    "        return False\n",
    "    else:\n",
    "        curr_ep = episodes[-1]\n",
    "        return (curr_ep > 99 and curr_ep % 100 == 0) \n",
    "\n",
    "video_path = f\"./videos/run{run_num}\"\n",
    "if not os.path.exists(video_path):\n",
    "    os.makedirs(video_path)\n",
    "env = RecordVideo(env, video_folder=video_path, episode_trigger=video_trigger)\n",
    "\n",
    "\n",
    "print(f\"Starting run {run_name}\")\n",
    "train_interval = 1\n",
    "    \n",
    "evaluation_reward = deque(maxlen=evaluation_reward_length)\n",
    "rewards, episodes = [], []\n",
    "reward = 0\n",
    "best_eval_reward = curr_mean_reward = last_save_reward = 0\n",
    "\n",
    "#initialize trackers\n",
    "## LOSS TRACKERS ##\n",
    "losses_window = deque(maxlen=10)\n",
    "loss_history = []\n",
    "episode_losses = []\n",
    "loss = mean_loss = 0\n",
    "\n",
    "# ## Q-VALUE TRACKERS ##\n",
    "episode_q_means = []\n",
    "episode_q_maxs = []\n",
    "episode_q_mins = []\n",
    "q_mean_window = deque(maxlen=10)\n",
    "q_max_window = deque(maxlen=10)\n",
    "q_min_window = deque(maxlen=10)\n",
    "q_stats_history = {\n",
    "    'mean': [],\n",
    "    'max': [],\n",
    "    'min': [],\n",
    "    'episode': []\n",
    "}\n",
    "\n",
    "# Epsilon Bump Control Variables\n",
    "plateau_patience = 300\n",
    "episodes_since_improvement = 0\n",
    "epsilon_bump = 0.15  # amount to re-increase epsilon\n",
    "soonest_bump = 2000  # earliest episode to apply epsilon bump\n",
    "\n",
    "frame = 0\n",
    "ep_start = 0\n",
    "training_started_flg = False\n",
    "\n",
    "print(\"Instantiating agent\")\n",
    "# agent = Agent(action_size, mem_path)\n",
    "agent = Agent(action_size)\n",
    "\n",
    "#########################\n",
    "#### LOAD CHECKPOINT ####\n",
    "# metadata = agent.load_checkpoint(\"Run8_Stdized_DDQN_750K_frames\", 2999)  #Edit episode number\n",
    "# frame = metadata['global_frame']\n",
    "# agent.load_replay_buffer(\"Run8_Stdized_DDQN_750K_frames\", 711354)\n",
    "# ep_start = metadata['global_episode']\n",
    "# evaluation_reward = metadata['eval_rewards']\n",
    "# rewards = metadata['rewards']    \n",
    "# episodes = metadata['episodes']\n",
    "# losses_window = metadata['last_10_ep_losses']\n",
    "# loss_history = metadata['loss_tracker']\n",
    "# training_started_flg = True\n",
    "########################\n",
    "\n",
    "\n",
    "start_train_immediate = False\n",
    "frame_max = 50_000 + TRAINING_STEPS\n",
    "e = ep_start\n",
    "\n",
    "while e < EPISODES:\n",
    "    #limit number of frames for consistent testing\n",
    "    if frame >= frame_max:\n",
    "        break\n",
    "\n",
    "    done = False\n",
    "    score = 0\n",
    "    episode_losses = []\n",
    "    history = np.zeros([5, 84, 84], dtype=np.uint8)\n",
    "    step = 0\n",
    "    state, _ = env.reset()\n",
    "    next_state = state\n",
    "    life = number_lives\n",
    "    fire_ready = True\n",
    "    no_reward_steps = 0\n",
    "\n",
    "    get_init_state(history, state, HISTORY_SIZE)\n",
    "\n",
    "    while not done:\n",
    "        \n",
    "        #limit number of frames for consitent testing\n",
    "        if frame >= frame_max:\n",
    "            break\n",
    "\n",
    "        step += 1\n",
    "        frame += 1\n",
    "\n",
    "        # Selet Action (with robust check for FIRE action)\n",
    "        if fire_ready:  \n",
    "            next_state, force_done = reset_after_life_loss(env, history)\n",
    "            if force_done:\n",
    "                break\n",
    "            action = 1\n",
    "            fire_ready = False\n",
    "        else:\n",
    "            trainable_action = agent.get_action(np.float32(history[:4, :, :]) / 255.)\n",
    "            action = TRAINABLE_ACTIONS[trainable_action]\n",
    "\n",
    "        # Step the environment\n",
    "        state = next_state\n",
    "        next_state, reward, terminations, truncations, info = env.step(action)  \n",
    "        done = truncations or terminations\n",
    "        \n",
    "        # Failsafe to force reset if no reward for 3000 steps (prevents agent from getting stuck)\n",
    "        stuck_limit = 3000\n",
    "        if no_reward_steps > stuck_limit:\n",
    "            done = True\n",
    "            print(f\"[WARNING] No reward for {stuck_limit} steps, forcing reset | \", \"Episode:\", e, \"  Frame:\", frame, ) \n",
    "             \n",
    "        frame_next_state = new_get_frame(next_state)\n",
    "             \n",
    "        # append next state to history\n",
    "        history[4, :, :] = frame_next_state\n",
    "        \n",
    "        # life handling\n",
    "        lost_life = check_live(life, info['lives'])  #check if the agent has lost a life\n",
    "        if lost_life:\n",
    "            fire_ready = True\n",
    "        life = info['lives']\n",
    "        \n",
    "        r = reward\n",
    "        if r == 0:\n",
    "            no_reward_steps += 1\n",
    "        else:\n",
    "            no_reward_steps = 0 \n",
    "\n",
    "        # Store the transition in replay buffer if it was not a FIRE action\n",
    "        if action in TRAINABLE_ACTIONS:\n",
    "            trainable_index = TRAINABLE_ACTIONS.index(action)\n",
    "            term_state = done or lost_life\n",
    "            agent.memory.push(deepcopy(frame_next_state), trainable_index, r, term_state)\n",
    "        \n",
    "        # Start training after random sample generation\n",
    "        if frame == train_frame or (start_train_immediate and frame == 1):\n",
    "            print(\"Starting training\")\n",
    "            training_started_flg = True\n",
    "            e = ep_start  #reset episode counter when training starts\n",
    "        if(training_started_flg): \n",
    "            if frame % train_interval == 0: # Use adaptive training interval\n",
    "                loss, q_stats = agent.train_policy_net()\n",
    "                episode_losses.append(loss)\n",
    "                episode_q_means.append(q_stats['q_mean'])\n",
    "                episode_q_maxs.append(q_stats['q_max'])\n",
    "                episode_q_mins.append(q_stats['q_min'])\n",
    "            # Update the target network\n",
    "            if (frame % (train_interval * update_target_network_frequency)) == 0:\n",
    "                agent.update_target_net()\n",
    "                print(\"Target network updated at frame: \", frame)\n",
    "        \n",
    "        # Update score and history\n",
    "        score += reward\n",
    "        history[:4, :, :] = history[1:, :, :]  # shift history by one erasing oldest frame\n",
    "            \n",
    "        if done:\n",
    "            e += 1\n",
    "            fire_ready = True\n",
    "            evaluation_reward.append(score)            \n",
    "            \n",
    "\n",
    "            # print episode information every X episodes\n",
    "            if e % 1 == 0:\n",
    "                print(\"episode:\", e, \"  frame:\", frame, \"  score:\", score, \"  memory length:\",\n",
    "                  len(agent.memory), \"  epsilon:\", round(agent.epsilon, 5), \n",
    "                  \"  steps:\", step, \"  lr:\", agent.optimizer.param_groups[0]['lr'], \"  PER_beta:\", round(agent.beta,5),\n",
    "                  \"  reward MA:\", round(np.mean(evaluation_reward), 3), \n",
    "                  \"  mean loss:\", round(mean_loss, 5), \"  mean max Q:\", round(np.mean(episode_q_maxs), 4))\n",
    "                #   \"  latest step Q max:\", round(q_stats['q_max'], 4))\n",
    "\n",
    "\n",
    "            \n",
    "            if training_started_flg:\n",
    "\n",
    "                episodes.append(e)\n",
    "                rewards.append(np.mean(evaluation_reward))  # record moving average of last evaluation_reward_length episodes\n",
    "\n",
    "                # # adapt training interval to agent performance\n",
    "                # if np.mean(evaluation_reward) < 8:\n",
    "                #     train_interval = 4\n",
    "                # elif np.mean(evaluation_reward) < 15:\n",
    "                #     train_interval = 2\n",
    "                # else:\n",
    "                #     train_interval = 1\n",
    "\n",
    "                ## DEBUG ##\n",
    "                # Check TD-error distribution in Replay Buffer\n",
    "                if e>0 and e % 100 == 0:\n",
    "                    agent.memory.log_td_error_distribution()\n",
    "\n",
    "                # save rolling loss everages every X episodes\n",
    "                if episode_losses:\n",
    "                    mean_loss = sum(episode_losses) / len(episode_losses)\n",
    "                    losses_window.append(mean_loss)\n",
    "                    if e > 9 and e % 10 == 0:\n",
    "                        loss_history.append((np.mean(losses_window), e))\n",
    "\n",
    "                # save rolling Q-score stat averages\n",
    "                q_mean_window.append(np.mean(episode_q_means))\n",
    "                q_max_window.append(np.mean(episode_q_maxs))\n",
    "                q_min_window.append(np.mean(episode_q_mins))\n",
    "                q_stats_history['mean'].append(np.mean(q_mean_window))\n",
    "                q_stats_history['max'].append(np.mean(q_max_window))\n",
    "                q_stats_history['min'].append(np.mean(q_min_window))\n",
    "                q_stats_history['episode'].append(e)\n",
    "                episode_q_means = []\n",
    "                episode_q_maxs = []\n",
    "                episode_q_mins = []\n",
    "\n",
    "                # plot the rewards every X episodes\n",
    "                if e > 0 and e % 50 == 0:\n",
    "                    # clear_output(wait=True)\n",
    "                    pylab.plot(episodes, rewards, 'b')\n",
    "                    pylab.xlabel('Episode #')\n",
    "                    pylab.ylabel('Rolling Mean Episode Scores') \n",
    "                    pylab.title('DQN w PER & Cropped Scoreboard \\n Scores')\n",
    "                    plot_path = f\"./save_graph/run{run_num}/{run_name}_ep{e}_scores.png\"\n",
    "                    os.makedirs(os.path.dirname(plot_path), exist_ok=True)\n",
    "                    pylab.savefig(plot_path)\n",
    "                    print(f\"[SAVED PLOT] {plot_path}\")\n",
    "                    pylab.show()\n",
    "                    pylab.close()\n",
    "                \n",
    "                # every X episodes, plot the mean losses\n",
    "                if e > 0 and e % 50 == 0:\n",
    "                    x = [entry[1] for entry in loss_history]\n",
    "                    y = [entry[0] for entry in loss_history]\n",
    "                    pylab.plot(x, y, 'r')\n",
    "                    pylab.xlabel('Episode #')\n",
    "                    pylab.ylabel('Rolling Mean Loss per Episode') \n",
    "                    pylab.title('DQN w PER & Cropped Scoreboard \\n Loss')\n",
    "                    plot_path = f\"./save_graph/run{run_num}/{run_name}_ep{e}_losses.png\"\n",
    "                    os.makedirs(os.path.dirname(plot_path), exist_ok=True)\n",
    "                    pylab.savefig(plot_path)\n",
    "                    print(f\"[SAVED PLOT] {plot_path}\")\n",
    "                    pylab.show()\n",
    "                    pylab.close()\n",
    "\n",
    "                # plot Q-value statistics every X episodes\n",
    "                if e > 0 and e % 25 == 0:\n",
    "                    pylab.plot(q_stats_history['episode'], q_stats_history['mean'], label='Q-Mean')\n",
    "                    pylab.plot(q_stats_history['episode'], q_stats_history['max'], label='Q-Max')\n",
    "                    pylab.plot(q_stats_history['episode'], q_stats_history['min'], label='Q-Min')\n",
    "                    pylab.xlabel('Episode #')\n",
    "                    pylab.ylabel('Q-Value')\n",
    "                    pylab.title('Avg per Episode Q-Value Stats')\n",
    "                    pylab.legend(loc='upper left')\n",
    "                    plot_path = f\"./save_graph/run{run_num}/{run_name}_ep{e}_Qstats.png\"\n",
    "                    os.makedirs(os.path.dirname(plot_path), exist_ok=True)\n",
    "                    pylab.savefig(plot_path)\n",
    "                    print(f\"[SAVED PLOT] {plot_path}\")\n",
    "                    pylab.show()\n",
    "                    pylab.close()\n",
    "\n",
    "\n",
    "                    ## DEBUG ##\n",
    "                    # print(f\"[PLOT DEBUG] Last 5 q_means: {q_stats_history['mean'][-5:]}\")\n",
    "\n",
    "                # Checkpoint the training process every X episodes \n",
    "                if e > 0 and e % 1000 == 0:\n",
    "                    metadata = create_metadata(agent, e, frame, evaluation_reward, rewards, episodes, losses_window, loss_history, agent.epsilon, agent.beta)\n",
    "                    agent.save_checkpoint(metadata, run_name, e)\n",
    "                if e > 0 and e % 1000 == 0:\n",
    "                    agent.save_replay_buffer(run_name, frame)\n",
    "\n",
    "                # Check if reward has improved\n",
    "                curr_mean_reward = np.mean(evaluation_reward)\n",
    "                if curr_mean_reward > best_eval_reward:\n",
    "                    best_eval_reward = curr_mean_reward\n",
    "                    episodes_since_improvement = 0\n",
    "                else:\n",
    "                    episodes_since_improvement += 1\n",
    "                \n",
    "                # save model if it is good\n",
    "                if curr_mean_reward > 8 and curr_mean_reward > (1.05 * last_save_reward):\n",
    "                    model_path = f\"./save_model/run{run_num}/good_{run_name}_{e}_eps.pth\"\n",
    "                    os.makedirs(os.path.dirname(model_path), exist_ok=True)\n",
    "                    torch.save(agent.policy_net.state_dict(), model_path)\n",
    "                    print(f\"[SAVED MODEL] {model_path}\")\n",
    "                    last_save_reward = curr_mean_reward\n",
    "               \n",
    "                # # # Apply epsilon bump if plateauing\n",
    "                # if e > soonest_bump and episodes_since_improvement >= plateau_patience:\n",
    "                #     if agent.epsilon < agent.epsilon_max:\n",
    "                #         agent.epsilon = min(agent.epsilon + epsilon_bump, agent.epsilon_max)\n",
    "                #         print(f\"[BUMP] Epsilon bumped to {agent.epsilon:.4f} after {plateau_patience} stagnant episodes.\")\n",
    "                #     episodes_since_improvement = 0  # Reset counter after bump\n",
    "\n",
    "\n",
    "\n",
    "# Checkpoint the model at the end of training loop\n",
    "metadata = create_metadata(agent, e, frame, evaluation_reward, rewards, episodes, losses_window, loss_history, agent.epsilon, agent.beta)\n",
    "agent.save_checkpoint(metadata, run_name, e)\n",
    "agent.save_replay_buffer(run_name, frame)\n",
    "\n",
    "print(\"Training complete\")\n",
    "\n"
   ]
  },
  {
   "cell_type": "code",
   "execution_count": null,
   "metadata": {},
   "outputs": [],
   "source": [
    "# End logging\n",
    "sys.stdout = tee.ipython_stdout\n",
    "tee.close()"
   ]
  },
  {
   "cell_type": "code",
   "execution_count": null,
   "metadata": {},
   "outputs": [
    {
     "name": "stderr",
     "output_type": "stream",
     "text": [
      "C:\\Users\\rbisk\\AppData\\Local\\Temp\\ipykernel_175372\\762919505.py:2: FutureWarning: You are using `torch.load` with `weights_only=False` (the current default value), which uses the default pickle module implicitly. It is possible to construct malicious pickle data which will execute arbitrary code during unpickling (See https://github.com/pytorch/pytorch/blob/main/SECURITY.md#untrusted-models for more details). In a future release, the default value for `weights_only` will be flipped to `True`. This limits the functions that could be executed during unpickling. Arbitrary objects will no longer be allowed to be loaded via this mode unless they are explicitly allowlisted by the user via `torch.serialization.add_safe_globals`. We recommend you start setting `weights_only=True` for any use case where you don't have full control of the loaded file. Please open an issue on GitHub for any issues related to this experimental feature.\n",
      "  ddqn_ckpt = torch.load(\"./checkpoints/Run12_DDQN_750K_frames_imprvdBatching_3007_checkpoint.pt\")\n",
      "C:\\Users\\rbisk\\AppData\\Local\\Temp\\ipykernel_175372\\762919505.py:3: FutureWarning: You are using `torch.load` with `weights_only=False` (the current default value), which uses the default pickle module implicitly. It is possible to construct malicious pickle data which will execute arbitrary code during unpickling (See https://github.com/pytorch/pytorch/blob/main/SECURITY.md#untrusted-models for more details). In a future release, the default value for `weights_only` will be flipped to `True`. This limits the functions that could be executed during unpickling. Arbitrary objects will no longer be allowed to be loaded via this mode unless they are explicitly allowlisted by the user via `torch.serialization.add_safe_globals`. We recommend you start setting `weights_only=True` for any use case where you don't have full control of the loaded file. Please open an issue on GitHub for any issues related to this experimental feature.\n",
      "  dqn_ckpt  = torch.load(\"./checkpoints/Run13_StdDQN_750K_frames_imprvdBatching_2673_checkpoint.pt\")\n"
     ]
    },
    {
     "name": "stdout",
     "output_type": "stream",
     "text": [
      "[SAVED PLOT] ./presentation_assets/DQN_vs_DDQN_750K_steps_LOSSES.png\n"
     ]
    },
    {
     "data": {
      "image/png": "[encoded data removed]",
      "text/plain": [
       "<Figure size 1000x600 with 1 Axes>"
      ]
     },
     "metadata": {},
     "output_type": "display_data"
    }
   ],
   "source": [
    "\n",
    "# === Load checkpoint files ===\n",
    "ddqn_ckpt = torch.load(\"./checkpoints/Run12_DDQN_750K_frames_imprvdBatching_3007_checkpoint.pt\")\n",
    "dqn_ckpt  = torch.load(\"./checkpoints/Run13_StdDQN_750K_frames_imprvdBatching_2673_checkpoint.pt\")\n",
    "\n",
    "# === Extract metadata ===\n",
    "ddqn_meta = ddqn_ckpt[\"metadata\"]\n",
    "dqn_meta = dqn_ckpt[\"metadata\"]\n",
    "\n",
    "# # === Extract episode indices and rolling mean rewards ===\n",
    "# ddqn_episodes = ddqn_meta[\"episodes\"]\n",
    "# ddqn_rewards = ddqn_meta[\"rewards\"]\n",
    "\n",
    "# dqn_episodes = dqn_meta[\"episodes\"]\n",
    "# dqn_rewards = dqn_meta[\"rewards\"]\n",
    "\n",
    "# # === Plot ===\n",
    "# plt.figure(figsize=(10, 6))\n",
    "# plt.plot(dqn_episodes, dqn_rewards, label=\"DQN\", color=\"red\")\n",
    "# plt.plot(ddqn_episodes, ddqn_rewards, label=\"DDQN\", color=\"blue\")\n",
    "# plt.xlabel(\"Episode #\", fontweight=\"bold\")\n",
    "# plt.ylabel(\"Mean Episode Score (Moving Avg)\", fontweight=\"bold\")\n",
    "# plt.legend(loc = \"upper left\")\n",
    "# # Main title\n",
    "# pylab.text(0.5, 1.05, 'Std DQN vs DDQN Scores',\n",
    "#            ha='center', va='bottom', transform=pylab.gca().transAxes,\n",
    "#            fontsize=14, fontweight='semibold')\n",
    "\n",
    "# # Subtitle (smaller font)\n",
    "# pylab.text(0.5, 1.01, '(750K training steps)',\n",
    "#            ha='center', va='bottom', transform=pylab.gca().transAxes,\n",
    "#            fontsize=10, color='gray')\n",
    "\n",
    "\n",
    "# plot_path = f\"./presentation_assets/DQN_vs_DDQN_750K_steps_SCORES.png\"\n",
    "# os.makedirs(os.path.dirname(plot_path), exist_ok=True)\n",
    "# pylab.savefig(plot_path, bbox_inches='tight')\n",
    "# print(f\"[SAVED PLOT] {plot_path}\")\n",
    "# plt.show()\n",
    "\n",
    "\n",
    "# # === Extract loss data ===\n",
    "ddqn_loss_history = ddqn_meta[\"loss_tracker\"]\n",
    "dqn_loss_history = dqn_meta[\"loss_tracker\"]\n",
    "\n",
    "ddqn_episodes = [entry[1] for entry in ddqn_loss_history]\n",
    "ddqn_losses = [entry[0] for entry in ddqn_loss_history]\n",
    "\n",
    "dqn_episodes = [entry[1] for entry in dqn_loss_history]\n",
    "dqn_losses = [entry[0] for entry in dqn_loss_history]\n",
    "\n",
    "# === Plot ===\n",
    "plt.figure(figsize=(10, 6))\n",
    "plt.plot(dqn_episodes, dqn_losses, label=\"DQN\", color=\"red\")\n",
    "plt.plot(ddqn_episodes, ddqn_losses, label=\"DDQN\", color=\"blue\")\n",
    "plt.xlabel(\"Episode #\", fontweight=\"bold\")\n",
    "plt.ylabel(\"Mean Episode Loss (Moving Avg)\", fontweight=\"bold\")\n",
    "plt.legend(loc = \"best\")\n",
    "# Main title\n",
    "pylab.text(0.5, 1.05, 'Std DQN vs DDQN Huber Loss',\n",
    "           ha='center', va='bottom', transform=pylab.gca().transAxes,\n",
    "           fontsize=14, fontweight='semibold')\n",
    "\n",
    "# Subtitle (smaller font)\n",
    "pylab.text(0.5, 1.01, '(750K training steps)',\n",
    "           ha='center', va='bottom', transform=pylab.gca().transAxes,\n",
    "           fontsize=10, color='gray')\n",
    "\n",
    "\n",
    "plot_path = f\"./presentation_assets/DQN_vs_DDQN_750K_steps_LOSSES.png\"\n",
    "os.makedirs(os.path.dirname(plot_path), exist_ok=True)\n",
    "pylab.savefig(plot_path, bbox_inches='tight')\n",
    "print(f\"[SAVED PLOT] {plot_path}\")\n",
    "plt.show()\n"
   ]
  },
  {
   "cell_type": "code",
   "execution_count": 6,
   "metadata": {},
   "outputs": [
    {
     "name": "stdout",
     "output_type": "stream",
     "text": [
      "ONNX model exported successfully!\n"
     ]
    }
   ],
   "source": [
    "# chkpt = torch.load(\"./checkpoints/Run12_DDQN_750K_frames_imprvdBatching_3007_checkpoint.pt\")\n",
    "from model import DQN_DualBranch\n",
    "action_size = len(TRAINABLE_ACTIONS)\n",
    "model = DQN_DualBranch(action_size)\n",
    "model.eval()\n",
    "\n",
    "#create dummy input for model\n",
    "dummy_input = torch.rand(BATCH_SIZE, 6, 84, 84)\n",
    "\n",
    "#export to ONNX\n",
    "torch.onnx.export(model, dummy_input, \"Branched Network.onnx\",\n",
    "                  input_names=[\"input\"], output_names=[\"output\"],\n",
    "                  dynamic_axes={\"input\": {0: \"batch_size\"}, \"output\": {0: \"batch_size\"}},\n",
    "                  opset_version=11)\n",
    "\n",
    "print(\"ONNX model exported successfully!\")\n"
   ]
  },
  {
   "cell_type": "markdown",
   "metadata": {},
   "source": [
    "## Timediff Frames"
   ]
  },
  {
   "cell_type": "markdown",
   "metadata": {},
   "source": [
    "Instead of using a 4 frame history to train the model, here we will feed the model the 4 frames plus the \"diff\" between each of the 4 frames to help isolate the ball position which is the most important thing for the model to learn"
   ]
  },
  {
   "cell_type": "markdown",
   "metadata": {},
   "source": [
    "# Visualize Agent Performance"
   ]
  },
  {
   "cell_type": "markdown",
   "metadata": {},
   "source": [
    "BE AWARE THIS CODE BELOW MAY CRASH THE KERNEL IF YOU RUN THE SAME CELL TWICE.\n",
    "\n",
    "Please save your model before running this portion of the code."
   ]
  },
  {
   "cell_type": "markdown",
   "metadata": {},
   "source": [
    "### Play Game in Window or Save Video"
   ]
  },
  {
   "cell_type": "code",
   "execution_count": null,
   "metadata": {},
   "outputs": [],
   "source": [
    "import gymnasium as gym\n",
    "from gymnasium.wrappers import RecordVideo\n",
    "\n",
    "# set random seed to sync visual and recorded game\n",
    "seed = 55\n",
    "np.random.seed(seed)\n",
    "random.seed(seed)\n",
    "torch.manual_seed(seed)\n",
    "\n",
    "# Load and setup Agent\n",
    "print(\"Instantiating agent\")\n",
    "agent = Agent(action_size)\n",
    "agent.load_policy_net(\"./save_model/run3/good_Run3_DDQN_Serial_InvTimeEpsilon_ddqn_886_eps.pth\")\n",
    "agent.policy_net.eval()\n",
    "agent.epsilon = 0  # Set agent to only exploit the best action\n",
    "\n",
    "\n",
    "# Create environments\n",
    "env_human = gym.make('ALE/Breakout-v5', frameskip=4, repeat_action_probability=sticky_action_prob, full_action_space=False, render_mode=\"human\")\n",
    "# env_record = RecordVideo(env_record, video_folder=\"./videos\", episode_trigger=lambda e: True)\n",
    "\n",
    "# Reset to seed\n",
    "state_h, _ = env_human.reset(seed=seed)\n",
    "state_h = do_random_actions(env_human, 20)\n",
    "\n",
    "\n",
    "# Setup History\n",
    "history = np.zeros([HISTORY_SIZE + 1, 84, 84], dtype=np.uint8)\n",
    "get_init_state(history, state_h, HISTORY_SIZE)\n",
    "\n",
    "done = False\n",
    "fire_ready = True\n",
    "life = number_lives\n",
    "score = 0\n",
    "step = 0\n",
    "\n",
    "while not done:\n",
    "    step += 1\n",
    "\n",
    "    # Select action\n",
    "    if fire_ready:\n",
    "        print(f\"[DEBUG] Agent is not acting — sending FIRE at step {step}\")\n",
    "        action = 1\n",
    "        fire_ready = False\n",
    "    else:\n",
    "        model_action = agent.get_action(np.float32(history[:4, :, :]) / 255.)\n",
    "        action = TRAINABLE_ACTIONS[model_action]\n",
    "\n",
    "    # Step the environment\n",
    "    state_h, reward, term_h, trunc_h, info = env_human.step(action)\n",
    "    done = term_h or trunc_h\n",
    "\n",
    "    # update history\n",
    "    frame_next_state = get_frame(state_h)\n",
    "    history[4, :, :] = frame_next_state\n",
    "    history[:4, :, :] = history[1:, :, :]  #shift history by one erasing oldest frame\n",
    "    \n",
    "    # check if life has been lost\n",
    "    lost_life = check_live(life, info['lives'])  #check if the agent has lost a life\n",
    "    if lost_life:\n",
    "        print(f\"[DEBUG] Lost life detected at step {step}\")\n",
    "        fire_ready = True\n",
    "    life = info['lives']\n",
    "    \n",
    "    # keep track of score\n",
    "    score += reward # update total score\n",
    "\n",
    "    \n",
    "env_human.close()\n"
   ]
  },
  {
   "cell_type": "markdown",
   "metadata": {},
   "source": [
    "### Play Game Rendered in Jupyter Notebook"
   ]
  },
  {
   "cell_type": "code",
   "execution_count": null,
   "metadata": {},
   "outputs": [],
   "source": [
    "from IPython.display import display as ipythondisplay, clear_output\n",
    "\n",
    "def show_state_live(frame, step=0, info=\"\"):\n",
    "    plt.figure(3)\n",
    "    plt.clf()\n",
    "    plt.imshow(frame)\n",
    "    plt.title(f\"Step: {step} {info}\")\n",
    "    plt.axis('off')\n",
    "    clear_output(wait=True)\n",
    "    ipythondisplay(plt.gcf())"
   ]
  },
  {
   "cell_type": "code",
   "execution_count": null,
   "metadata": {},
   "outputs": [],
   "source": [
    "import gymnasium as gym\n",
    "from gymnasium.wrappers import RecordVideo\n",
    "\n",
    "\n",
    "# set random seed to sync visual and recorded game\n",
    "seed = 42\n",
    "np.random.seed(seed)\n",
    "random.seed(seed)\n",
    "torch.manual_seed(seed)\n",
    "\n",
    "# Load and setup Agent\n",
    "# Choose whether to use double DQN\n",
    "double_dqn = False # set to True if using double DQN agent\n",
    "if double_dqn:\n",
    "    from agent_double import Agent\n",
    "else:\n",
    "    from agent import Agent\n",
    "\n",
    "#Initialize agent\n",
    "print(\"Instantiating agent\")\n",
    "agent = Agent(action_size)\n",
    "agent.load_policy_net(\"./save_model/Run1_serial/good_breakout_dqn_1256_eps.pth\")\n",
    "agent.policy_net.eval()\n",
    "agent.epsilon = 0  # Set agent to only exploit the best action\n",
    "\n",
    "\n",
    "# Create environments\n",
    "env = gym.make('ALE/Breakout-v5', frameskip=4, repeat_action_probability=sticky_action_prob, full_action_space=False, render_mode=\"rgb_array\")\n",
    "# Use RecordVideo to save the video to the \"videos\" directory\n",
    "# env = RecordVideo(env, video_folder=\"./videos\", episode_trigger=lambda episode_id: True)\n",
    "\n",
    "# Reset the environment\n",
    "state, _ = env.reset(seed=seed)\n",
    "\n",
    "# Setup History\n",
    "history = np.zeros([HISTORY_SIZE + 1, 84, 84], dtype=np.uint8)\n",
    "get_init_state(history, state, HISTORY_SIZE)\n",
    "\n",
    "#Initialize variables\n",
    "step = 0\n",
    "done = False\n",
    "fire_ready = True\n",
    "life = number_lives\n",
    "score = 0\n",
    "\n",
    "while not done:\n",
    "\n",
    "    # Render the current frame live in the notebook\n",
    "    show_state_live(state, step)   \n",
    "\n",
    "    # Select action\n",
    "    if fire_ready:\n",
    "        action = 1\n",
    "        fire_ready = False\n",
    "    else:\n",
    "        model_action = agent.get_action(np.float32(history[:4, :, :]) / 255.)\n",
    "        action = TRAINABLE_ACTIONS[model_action]\n",
    "\n",
    "    # Step the environment\n",
    "    next_state, reward, term, trunc, info = env.step(action)\n",
    "    done = term or trunc\n",
    "\n",
    "    # update history\n",
    "    frame_next_state = get_frame(state)\n",
    "    history[4, :, :] = frame_next_state\n",
    "    history[:4, :, :] = history[1:, :, :]  #shift history by one erasing oldest frame\n",
    "    \n",
    "    # check if life has been lost\n",
    "    lost_life = check_live(life, info['lives'])  #check if the agent has lost a life\n",
    "    if lost_life:\n",
    "        fire_ready = True  \n",
    "        # do_random_actions(env_human, 30) #IMPT: introduce randomness to game and paddle position before next life\n",
    "    life = info['lives']\n",
    "    \n",
    "    # keep track of score\n",
    "    score += reward # update total score\n",
    "\n",
    "    state = next_state\n",
    "    step += 1\n",
    "\n",
    "    \n",
    "\n",
    "env.close()"
   ]
  },
  {
   "cell_type": "markdown",
   "metadata": {},
   "source": [
    "## Model Comparison Tester"
   ]
  },
  {
   "cell_type": "code",
   "execution_count": 17,
   "metadata": {},
   "outputs": [
    {
     "name": "stdout",
     "output_type": "stream",
     "text": [
      "Instantiating agent\n",
      "DQN Agent initialized\n",
      "No replay buffer path provided. Creating new empty buffer.\n",
      "episode: 0   seed: 765   score: 31.0   epsilon: 0.05   steps: 639\n",
      "episode: 1   seed: 817   score: 25.0   epsilon: 0.05   steps: 555\n",
      "episode: 2   seed: 53   score: 22.0   epsilon: 0.05   steps: 523\n",
      "episode: 3   seed: 705   score: 23.0   epsilon: 0.05   steps: 764\n",
      "episode: 4   seed: 990   score: 29.0   epsilon: 0.05   steps: 638\n"
     ]
    },
    {
     "ename": "KeyboardInterrupt",
     "evalue": "",
     "output_type": "error",
     "traceback": [
      "\u001b[1;31m---------------------------------------------------------------------------\u001b[0m",
      "\u001b[1;31mKeyboardInterrupt\u001b[0m                         Traceback (most recent call last)",
      "Cell \u001b[1;32mIn[17], line 68\u001b[0m\n\u001b[0;32m     66\u001b[0m     fire_ready \u001b[38;5;241m=\u001b[39m \u001b[38;5;28;01mFalse\u001b[39;00m\n\u001b[0;32m     67\u001b[0m \u001b[38;5;28;01melse\u001b[39;00m:\n\u001b[1;32m---> 68\u001b[0m     trainable_action \u001b[38;5;241m=\u001b[39m \u001b[43magent\u001b[49m\u001b[38;5;241;43m.\u001b[39;49m\u001b[43mget_action\u001b[49m\u001b[43m(\u001b[49m\u001b[43mnp\u001b[49m\u001b[38;5;241;43m.\u001b[39;49m\u001b[43mfloat32\u001b[49m\u001b[43m(\u001b[49m\u001b[43mhistory\u001b[49m\u001b[43m[\u001b[49m\u001b[43m:\u001b[49m\u001b[38;5;241;43m4\u001b[39;49m\u001b[43m,\u001b[49m\u001b[43m \u001b[49m\u001b[43m:\u001b[49m\u001b[43m,\u001b[49m\u001b[43m \u001b[49m\u001b[43m:\u001b[49m\u001b[43m]\u001b[49m\u001b[43m)\u001b[49m\u001b[43m \u001b[49m\u001b[38;5;241;43m/\u001b[39;49m\u001b[43m \u001b[49m\u001b[38;5;241;43m255.\u001b[39;49m\u001b[43m)\u001b[49m\n\u001b[0;32m     69\u001b[0m     action \u001b[38;5;241m=\u001b[39m TRAINABLE_ACTIONS[trainable_action]\n\u001b[0;32m     71\u001b[0m \u001b[38;5;66;03m# Step the environment\u001b[39;00m\n",
      "File \u001b[1;32mc:\\Users\\rbisk\\Dropbox\\GMU\\cs747 Deep Learning\\Final_Project\\Illinois_hw\\agent.py:75\u001b[0m, in \u001b[0;36mAgent.get_action\u001b[1;34m(self, state)\u001b[0m\n\u001b[0;32m     73\u001b[0m     state_tensor \u001b[38;5;241m=\u001b[39m torch\u001b[38;5;241m.\u001b[39mfrom_numpy(state)\u001b[38;5;241m.\u001b[39munsqueeze(\u001b[38;5;241m0\u001b[39m)\u001b[38;5;241m.\u001b[39mto(device)  \u001b[38;5;66;03m# Add batch dimension\u001b[39;00m\n\u001b[0;32m     74\u001b[0m     \u001b[38;5;28;01mwith\u001b[39;00m torch\u001b[38;5;241m.\u001b[39mno_grad():\n\u001b[1;32m---> 75\u001b[0m         q_values \u001b[38;5;241m=\u001b[39m \u001b[38;5;28;43mself\u001b[39;49m\u001b[38;5;241;43m.\u001b[39;49m\u001b[43mpolicy_net\u001b[49m\u001b[43m(\u001b[49m\u001b[43mstate_tensor\u001b[49m\u001b[43m)\u001b[49m\n\u001b[0;32m     76\u001b[0m     a \u001b[38;5;241m=\u001b[39m torch\u001b[38;5;241m.\u001b[39margmax(q_values, dim\u001b[38;5;241m=\u001b[39m\u001b[38;5;241m1\u001b[39m)\u001b[38;5;241m.\u001b[39mitem()\n\u001b[0;32m     77\u001b[0m \u001b[38;5;28;01mreturn\u001b[39;00m \u001b[38;5;28mint\u001b[39m(a)\n",
      "File \u001b[1;32mc:\\Users\\rbisk\\anaconda3\\envs\\gym\\lib\\site-packages\\torch\\nn\\modules\\module.py:1553\u001b[0m, in \u001b[0;36mModule._wrapped_call_impl\u001b[1;34m(self, *args, **kwargs)\u001b[0m\n\u001b[0;32m   1551\u001b[0m     \u001b[38;5;28;01mreturn\u001b[39;00m \u001b[38;5;28mself\u001b[39m\u001b[38;5;241m.\u001b[39m_compiled_call_impl(\u001b[38;5;241m*\u001b[39margs, \u001b[38;5;241m*\u001b[39m\u001b[38;5;241m*\u001b[39mkwargs)  \u001b[38;5;66;03m# type: ignore[misc]\u001b[39;00m\n\u001b[0;32m   1552\u001b[0m \u001b[38;5;28;01melse\u001b[39;00m:\n\u001b[1;32m-> 1553\u001b[0m     \u001b[38;5;28;01mreturn\u001b[39;00m \u001b[38;5;28;43mself\u001b[39;49m\u001b[38;5;241;43m.\u001b[39;49m\u001b[43m_call_impl\u001b[49m\u001b[43m(\u001b[49m\u001b[38;5;241;43m*\u001b[39;49m\u001b[43margs\u001b[49m\u001b[43m,\u001b[49m\u001b[43m \u001b[49m\u001b[38;5;241;43m*\u001b[39;49m\u001b[38;5;241;43m*\u001b[39;49m\u001b[43mkwargs\u001b[49m\u001b[43m)\u001b[49m\n",
      "File \u001b[1;32mc:\\Users\\rbisk\\anaconda3\\envs\\gym\\lib\\site-packages\\torch\\nn\\modules\\module.py:1562\u001b[0m, in \u001b[0;36mModule._call_impl\u001b[1;34m(self, *args, **kwargs)\u001b[0m\n\u001b[0;32m   1557\u001b[0m \u001b[38;5;66;03m# If we don't have any hooks, we want to skip the rest of the logic in\u001b[39;00m\n\u001b[0;32m   1558\u001b[0m \u001b[38;5;66;03m# this function, and just call forward.\u001b[39;00m\n\u001b[0;32m   1559\u001b[0m \u001b[38;5;28;01mif\u001b[39;00m \u001b[38;5;129;01mnot\u001b[39;00m (\u001b[38;5;28mself\u001b[39m\u001b[38;5;241m.\u001b[39m_backward_hooks \u001b[38;5;129;01mor\u001b[39;00m \u001b[38;5;28mself\u001b[39m\u001b[38;5;241m.\u001b[39m_backward_pre_hooks \u001b[38;5;129;01mor\u001b[39;00m \u001b[38;5;28mself\u001b[39m\u001b[38;5;241m.\u001b[39m_forward_hooks \u001b[38;5;129;01mor\u001b[39;00m \u001b[38;5;28mself\u001b[39m\u001b[38;5;241m.\u001b[39m_forward_pre_hooks\n\u001b[0;32m   1560\u001b[0m         \u001b[38;5;129;01mor\u001b[39;00m _global_backward_pre_hooks \u001b[38;5;129;01mor\u001b[39;00m _global_backward_hooks\n\u001b[0;32m   1561\u001b[0m         \u001b[38;5;129;01mor\u001b[39;00m _global_forward_hooks \u001b[38;5;129;01mor\u001b[39;00m _global_forward_pre_hooks):\n\u001b[1;32m-> 1562\u001b[0m     \u001b[38;5;28;01mreturn\u001b[39;00m \u001b[43mforward_call\u001b[49m\u001b[43m(\u001b[49m\u001b[38;5;241;43m*\u001b[39;49m\u001b[43margs\u001b[49m\u001b[43m,\u001b[49m\u001b[43m \u001b[49m\u001b[38;5;241;43m*\u001b[39;49m\u001b[38;5;241;43m*\u001b[39;49m\u001b[43mkwargs\u001b[49m\u001b[43m)\u001b[49m\n\u001b[0;32m   1564\u001b[0m \u001b[38;5;28;01mtry\u001b[39;00m:\n\u001b[0;32m   1565\u001b[0m     result \u001b[38;5;241m=\u001b[39m \u001b[38;5;28;01mNone\u001b[39;00m\n",
      "File \u001b[1;32mc:\\Users\\rbisk\\Dropbox\\GMU\\cs747 Deep Learning\\Final_Project\\Illinois_hw\\model.py:25\u001b[0m, in \u001b[0;36mDQN.forward\u001b[1;34m(self, x)\u001b[0m\n\u001b[0;32m     23\u001b[0m x \u001b[38;5;241m=\u001b[39m F\u001b[38;5;241m.\u001b[39mrelu(\u001b[38;5;28mself\u001b[39m\u001b[38;5;241m.\u001b[39mbn3(\u001b[38;5;28mself\u001b[39m\u001b[38;5;241m.\u001b[39mconv3(x)))\n\u001b[0;32m     24\u001b[0m x \u001b[38;5;241m=\u001b[39m torch\u001b[38;5;241m.\u001b[39mflatten(x, start_dim\u001b[38;5;241m=\u001b[39m\u001b[38;5;241m1\u001b[39m)  \u001b[38;5;66;03m# Replaces .view(x.size(0), -1)\u001b[39;00m\n\u001b[1;32m---> 25\u001b[0m x \u001b[38;5;241m=\u001b[39m F\u001b[38;5;241m.\u001b[39mrelu(\u001b[38;5;28;43mself\u001b[39;49m\u001b[38;5;241;43m.\u001b[39;49m\u001b[43mfc\u001b[49m\u001b[43m(\u001b[49m\u001b[43mx\u001b[49m\u001b[43m)\u001b[49m)\n\u001b[0;32m     26\u001b[0m \u001b[38;5;28;01mreturn\u001b[39;00m \u001b[38;5;28mself\u001b[39m\u001b[38;5;241m.\u001b[39mhead(x)\n",
      "File \u001b[1;32mc:\\Users\\rbisk\\anaconda3\\envs\\gym\\lib\\site-packages\\torch\\nn\\modules\\module.py:1553\u001b[0m, in \u001b[0;36mModule._wrapped_call_impl\u001b[1;34m(self, *args, **kwargs)\u001b[0m\n\u001b[0;32m   1551\u001b[0m     \u001b[38;5;28;01mreturn\u001b[39;00m \u001b[38;5;28mself\u001b[39m\u001b[38;5;241m.\u001b[39m_compiled_call_impl(\u001b[38;5;241m*\u001b[39margs, \u001b[38;5;241m*\u001b[39m\u001b[38;5;241m*\u001b[39mkwargs)  \u001b[38;5;66;03m# type: ignore[misc]\u001b[39;00m\n\u001b[0;32m   1552\u001b[0m \u001b[38;5;28;01melse\u001b[39;00m:\n\u001b[1;32m-> 1553\u001b[0m     \u001b[38;5;28;01mreturn\u001b[39;00m \u001b[38;5;28;43mself\u001b[39;49m\u001b[38;5;241;43m.\u001b[39;49m\u001b[43m_call_impl\u001b[49m\u001b[43m(\u001b[49m\u001b[38;5;241;43m*\u001b[39;49m\u001b[43margs\u001b[49m\u001b[43m,\u001b[49m\u001b[43m \u001b[49m\u001b[38;5;241;43m*\u001b[39;49m\u001b[38;5;241;43m*\u001b[39;49m\u001b[43mkwargs\u001b[49m\u001b[43m)\u001b[49m\n",
      "File \u001b[1;32mc:\\Users\\rbisk\\anaconda3\\envs\\gym\\lib\\site-packages\\torch\\nn\\modules\\module.py:1562\u001b[0m, in \u001b[0;36mModule._call_impl\u001b[1;34m(self, *args, **kwargs)\u001b[0m\n\u001b[0;32m   1557\u001b[0m \u001b[38;5;66;03m# If we don't have any hooks, we want to skip the rest of the logic in\u001b[39;00m\n\u001b[0;32m   1558\u001b[0m \u001b[38;5;66;03m# this function, and just call forward.\u001b[39;00m\n\u001b[0;32m   1559\u001b[0m \u001b[38;5;28;01mif\u001b[39;00m \u001b[38;5;129;01mnot\u001b[39;00m (\u001b[38;5;28mself\u001b[39m\u001b[38;5;241m.\u001b[39m_backward_hooks \u001b[38;5;129;01mor\u001b[39;00m \u001b[38;5;28mself\u001b[39m\u001b[38;5;241m.\u001b[39m_backward_pre_hooks \u001b[38;5;129;01mor\u001b[39;00m \u001b[38;5;28mself\u001b[39m\u001b[38;5;241m.\u001b[39m_forward_hooks \u001b[38;5;129;01mor\u001b[39;00m \u001b[38;5;28mself\u001b[39m\u001b[38;5;241m.\u001b[39m_forward_pre_hooks\n\u001b[0;32m   1560\u001b[0m         \u001b[38;5;129;01mor\u001b[39;00m _global_backward_pre_hooks \u001b[38;5;129;01mor\u001b[39;00m _global_backward_hooks\n\u001b[0;32m   1561\u001b[0m         \u001b[38;5;129;01mor\u001b[39;00m _global_forward_hooks \u001b[38;5;129;01mor\u001b[39;00m _global_forward_pre_hooks):\n\u001b[1;32m-> 1562\u001b[0m     \u001b[38;5;28;01mreturn\u001b[39;00m \u001b[43mforward_call\u001b[49m\u001b[43m(\u001b[49m\u001b[38;5;241;43m*\u001b[39;49m\u001b[43margs\u001b[49m\u001b[43m,\u001b[49m\u001b[43m \u001b[49m\u001b[38;5;241;43m*\u001b[39;49m\u001b[38;5;241;43m*\u001b[39;49m\u001b[43mkwargs\u001b[49m\u001b[43m)\u001b[49m\n\u001b[0;32m   1564\u001b[0m \u001b[38;5;28;01mtry\u001b[39;00m:\n\u001b[0;32m   1565\u001b[0m     result \u001b[38;5;241m=\u001b[39m \u001b[38;5;28;01mNone\u001b[39;00m\n",
      "File \u001b[1;32mc:\\Users\\rbisk\\anaconda3\\envs\\gym\\lib\\site-packages\\torch\\nn\\modules\\linear.py:117\u001b[0m, in \u001b[0;36mLinear.forward\u001b[1;34m(self, input)\u001b[0m\n\u001b[0;32m    116\u001b[0m \u001b[38;5;28;01mdef\u001b[39;00m \u001b[38;5;21mforward\u001b[39m(\u001b[38;5;28mself\u001b[39m, \u001b[38;5;28minput\u001b[39m: Tensor) \u001b[38;5;241m-\u001b[39m\u001b[38;5;241m>\u001b[39m Tensor:\n\u001b[1;32m--> 117\u001b[0m     \u001b[38;5;28;01mreturn\u001b[39;00m \u001b[43mF\u001b[49m\u001b[38;5;241;43m.\u001b[39;49m\u001b[43mlinear\u001b[49m\u001b[43m(\u001b[49m\u001b[38;5;28;43minput\u001b[39;49m\u001b[43m,\u001b[49m\u001b[43m \u001b[49m\u001b[38;5;28;43mself\u001b[39;49m\u001b[38;5;241;43m.\u001b[39;49m\u001b[43mweight\u001b[49m\u001b[43m,\u001b[49m\u001b[43m \u001b[49m\u001b[38;5;28;43mself\u001b[39;49m\u001b[38;5;241;43m.\u001b[39;49m\u001b[43mbias\u001b[49m\u001b[43m)\u001b[49m\n",
      "\u001b[1;31mKeyboardInterrupt\u001b[0m: "
     ]
    }
   ],
   "source": [
    "from utils import *\n",
    "from config import *\n",
    "import gymnasium as gym\n",
    "\n",
    "\n",
    "\n",
    "# Load and setup Agent\n",
    "# Choose which agent class to load\n",
    "from agent import Agent\n",
    "# from agent_timediff import Agent\n",
    "\n",
    "# 50 unique, fixed seeds\n",
    "seeds = [765,817,53,705,990,511,236,661,654,418,804,968,1,749,125,293,985,574, \n",
    "         447,948,687,317,280,645,927,842,309,616,717,930,778,323,595,798,195,11,\n",
    "         483,316,690,951,196,307,906,558,516,844,410,965,371,886]\n",
    "\n",
    "\n",
    "#Initialize agent\n",
    "print(\"Instantiating agent\")\n",
    "agent = Agent(action_size)\n",
    "# agent.load_policy_net(\"./save_model/run12/good_Run12_DDQN_750K_frames_imprvdBatching_2319_eps.pth\")\n",
    "agent.load_policy_net(\"./save_model/run13/good_Run13_StdDQN_750K_frames_imprvdBatching_2477_eps.pth\")\n",
    "# agent.load_policy_net(\"./save_model/run14/good_Run14_StdDQN_750Kfr_timediff_new_get_frame_2425_eps.pth\")\n",
    "agent.target_net.load_state_dict(agent.policy_net.state_dict())\n",
    "agent.target_net.eval()\n",
    "agent.policy_net.eval()\n",
    "agent.epsilon = 0.05  # Set agent to use model action 95% of the time for robustness\n",
    "\n",
    "\n",
    "# Create environments\n",
    "env = gym.make('ALE/Breakout-v5', frameskip=4, repeat_action_probability=0.0, full_action_space=False, render_mode=\"rgb_array\")\n",
    "# Use RecordVideo to save the video to the \"videos\" directory\n",
    "# video_path = f\"./videos/testing/run13\"\n",
    "# if not os.path.exists(video_path):\n",
    "#     os.makedirs(video_path)\n",
    "# env = RecordVideo(env, video_folder=video_path, episode_trigger=lambda e: True)\n",
    "\n",
    "\n",
    "scores = []\n",
    "\n",
    "for e, seed in enumerate(seeds):\n",
    "    set_seed(seed)\n",
    "    # Reset the environment\n",
    "    state, _ = env.reset(seed=seed)\n",
    "\n",
    "    # Setup History\n",
    "    history = np.zeros([HISTORY_SIZE + 1, 84, 84], dtype=np.uint8)\n",
    "    get_init_state(history, state, HISTORY_SIZE)  #non cropped version\n",
    "    # new_get_init_state(history, state, HISTORY_SIZE)  #cropped version\n",
    "\n",
    "    #Initialize variables\n",
    "    step = 0\n",
    "    done = False\n",
    "    fire_ready = True\n",
    "    life = number_lives\n",
    "    score = 0\n",
    "\n",
    "    while not done:\n",
    "        \n",
    "        # Selet Action (with robust check for FIRE action)\n",
    "        if fire_ready:\n",
    "            next_state, force_done = reset_after_life_loss(env, history)\n",
    "            if force_done:\n",
    "                break\n",
    "            action = 1\n",
    "            fire_ready = False\n",
    "        else:\n",
    "            trainable_action = agent.get_action(np.float32(history[:4, :, :]) / 255.)\n",
    "            action = TRAINABLE_ACTIONS[trainable_action]\n",
    "\n",
    "        # Step the environment\n",
    "    \n",
    "        next_state, reward, term, trunc, info = env.step(action)\n",
    "        done = term or trunc\n",
    "        # update total score\n",
    "        score += reward \n",
    "\n",
    "        # update history\n",
    "        history[4, :, :] = get_frame(next_state)  #non cropped version\n",
    "        # history[4, :, :] = new_get_frame(next_state)  #cropped version\n",
    "        history[:4, :, :] = history[1:, :, :]  #shift history by one erasing oldest frame\n",
    "        \n",
    "        # check if life has been lost\n",
    "        lost_life = check_live(life, info['lives'])  #check if the agent has lost a life\n",
    "        if lost_life:\n",
    "            fire_ready = True  \n",
    "        life = info['lives']\n",
    "        \n",
    "        \n",
    "        step += 1\n",
    "    \n",
    "    print(\"episode:\", e, \"  seed:\", seed, \"  score:\", score, \"  epsilon:\", round(agent.epsilon, 5), \n",
    "    \"  steps:\", step)\n",
    "    \n",
    "    scores.append(score)\n",
    "\n",
    "env.close()\n",
    "print(\"Mean Score: \", np.mean(scores))\n",
    "print(\"Std Score: \", np.std(scores))\n",
    "print(\"Max Score: \", np.max(scores))\n",
    "print(\"Min Score: \", np.min(scores))\n",
    "print(\"Median Score: \", np.median(scores))\n",
    "\n",
    "env.close()"
   ]
  },
  {
   "cell_type": "markdown",
   "metadata": {},
   "source": [
    "## SCRATCH"
   ]
  },
  {
   "cell_type": "code",
   "execution_count": null,
   "metadata": {},
   "outputs": [],
   "source": [
    "for i in range(4):\n",
    "    print(i)\n"
   ]
  },
  {
   "cell_type": "code",
   "execution_count": null,
   "metadata": {},
   "outputs": [],
   "source": [
    "env = gym.make('ALE/Breakout-v5', frameskip=4, repeat_action_probability=0.0, full_action_space=False)\n",
    "env.reset()\n",
    "next_state, reward, terminations, truncations, info = env.step(torch.tensor([[1]]))\n",
    "done = truncations or terminations\n",
    "print(\"reward: \", reward)\n",
    "print(\"done: \", done)\n",
    "print(\"info: \", info)\n",
    "print(next_state.shape)"
   ]
  },
  {
   "cell_type": "code",
   "execution_count": null,
   "metadata": {},
   "outputs": [],
   "source": [
    "print(env.action_space)\n",
    "print(\"Expected type:\", type(env.action_space.sample()))"
   ]
  },
  {
   "cell_type": "code",
   "execution_count": null,
   "metadata": {},
   "outputs": [],
   "source": [
    "print(\"agent memory type: \", type(agent.memory.memory[0]))\n",
    "print(\"agent memory[0]: \", agent.memory.memory[0])"
   ]
  },
  {
   "cell_type": "code",
   "execution_count": 1,
   "metadata": {},
   "outputs": [
    {
     "name": "stdout",
     "output_type": "stream",
     "text": [
      "Cell 1\n"
     ]
    }
   ],
   "source": [
    "print(\"Cell 1\")"
   ]
  },
  {
   "cell_type": "code",
   "execution_count": 19,
   "metadata": {},
   "outputs": [
    {
     "name": "stdout",
     "output_type": "stream",
     "text": [
      "✅ All checks passed — valid_flags == valid_indices through all pushes.\n"
     ]
    }
   ],
   "source": [
    "import numpy as np\n",
    "import random\n",
    "import memory as mem\n",
    "\n",
    "# Use a small capacity for easy debugging\n",
    "capacity = 10\n",
    "history_size = 3\n",
    "memory = mem.CircularReplayMemoryPER(capacity, history_size)\n",
    "\n",
    "# Push 30 fake transitions (will cause multiple wraps)\n",
    "for step in range(30):\n",
    "    frame = np.ones((84, 84), dtype=np.uint8) * step\n",
    "    action = random.randint(0, 3)\n",
    "    reward = random.random()\n",
    "    done = (step % 7 == 0)  # Random done flag every few steps\n",
    "\n",
    "    memory.push(frame, action, reward, done)\n",
    "\n",
    "    num_flags = sum(memory.valid_flags)\n",
    "    num_indices = len(memory.valid_indices)\n",
    "\n",
    "    if num_flags != num_indices:\n",
    "        print(f\"❌ Mismatch at step {step}:\")\n",
    "        print(f\"   valid_flags count = {num_flags}\")\n",
    "        print(f\"   valid_indices count = {num_indices}\")\n",
    "        print(f\"   position = {memory.position}\")\n",
    "        print(f\"   size = {memory.size}\")\n",
    "        print(f\"   flags: {memory.valid_flags}\")\n",
    "        print(f\"   valid_indices: {memory.valid_indices}\")\n",
    "        raise AssertionError(\"valid_flags and valid_indices out of sync\")\n",
    "\n",
    "print(\"✅ All checks passed — valid_flags == valid_indices through all pushes.\")\n"
   ]
  }
 ],
 "metadata": {
  "kernelspec": {
   "display_name": "gym",
   "language": "python",
   "name": "python3"
  },
  "language_info": {
   "codemirror_mode": {
    "name": "ipython",
    "version": 3
   },
   "file_extension": ".py",
   "mimetype": "text/x-python",
   "name": "python",
   "nbconvert_exporter": "python",
   "pygments_lexer": "ipython3",
   "version": "3.8.20"
  }
 },
 "nbformat": 4,
 "nbformat_minor": 2
}
